{
 "cells": [
  {
   "cell_type": "code",
   "execution_count": 1,
   "metadata": {},
   "outputs": [],
   "source": [
    "# user-friendly print\n",
    "from IPython.core.interactiveshell import InteractiveShell\n",
    "\n",
    "InteractiveShell.ast_node_interactivity = \"all\""
   ]
  },
  {
   "cell_type": "markdown",
   "metadata": {},
   "source": [
    "## Crystal structure generation\n",
    "\n",
    "To generate reasonable crystal structure under a given space group with a specific chemical composition, basicly the following four steps are needed.\n",
    "\n",
    "1. calculate possible Wyckoff configurations under a given space group for each chemical composition.\n",
    "2. generate fraction positions for each element with given a Wyckoff configuration which is calculated from step 1), randomly.\n",
    "3. generate lattice for the given space group which is used in step 1), randomly.\n",
    "4. combine the results from step 2) and 3) to obtain a crystal structure.\n",
    "\n",
    "Usually, we also have to check the `volume` and `atomic distances` of generated structure, only keep the structures which have reasonable `volume` and `atomic distances`.\n",
    "\n",
    "To facilitate all these jobs, our `crystallus` library provides three modules:\n",
    "\n",
    "* `WyckoffCfgGenerator`: generate possible Wyckoff configurations for the given space group and composition of primitive cell.\n",
    "* `CrystalGenerator`: generate crystal structures for the given space group and Wyckoff configurations.\n",
    "* `WyckoffDB, SpaceGroupDB`: database include space group and corresponding Wyckoff information.\n",
    "\n",
    "The folloing content shows how to use `crystallus`."
   ]
  },
  {
   "cell_type": "markdown",
   "metadata": {},
   "source": [
    "### 1. Spacegroup information DB\n",
    "\n",
    "You can use `SpaceGroupDB` to get the information of a given spacegroup such as Wyckoff positions. For example, get information of space group `167`"
   ]
  },
  {
   "cell_type": "code",
   "execution_count": 2,
   "metadata": {},
   "outputs": [
    {
     "data": {
      "text/plain": [
       "[{'Wyckoff letter': 'f',\n",
       "  'multiplicity': 12,\n",
       "  'reusable': True,\n",
       "  'Wyckoff position': '(x,y,z), (z,x,y), (y,z,x), (-y+1/2,-x+1/2,-z+1/2), (-x+1/2,-z+1/2,-y+1/2), (-z+1/2,-y+1/2,-x+1/2), (-x,-y,-z), (-z,-x,-y), (-y,-z,-x), (y+1/2,x+1/2,z+1/2), (x+1/2,z+1/2,y+1/2), (z+1/2,y+1/2,x+1/2)'},\n",
       " {'Wyckoff letter': 'e',\n",
       "  'multiplicity': 6,\n",
       "  'reusable': True,\n",
       "  'Wyckoff position': '(x,-x+1/2,1/4), (1/4,x,-x+1/2), (-x+1/2,1/4,x), (-x,x+1/2,3/4), (3/4,-x,x+1/2), (x+1/2,3/4,-x)'},\n",
       " {'Wyckoff letter': 'd',\n",
       "  'multiplicity': 6,\n",
       "  'reusable': False,\n",
       "  'Wyckoff position': '(1/2,0,0), (0,1/2,0), (0,0,1/2), (1/2,0,1/2), (0,1/2,1/2), (1/2,1/2,0)'},\n",
       " {'Wyckoff letter': 'c',\n",
       "  'multiplicity': 4,\n",
       "  'reusable': True,\n",
       "  'Wyckoff position': '(x,x,x), (-x+1/2,-x+1/2,-x+1/2), (-x,-x,-x), (x+1/2,x+1/2,x+1/2)'},\n",
       " {'Wyckoff letter': 'b',\n",
       "  'multiplicity': 2,\n",
       "  'reusable': False,\n",
       "  'Wyckoff position': '(0,0,0), (1/2,1/2,1/2)'},\n",
       " {'Wyckoff letter': 'a',\n",
       "  'multiplicity': 2,\n",
       "  'reusable': False,\n",
       "  'Wyckoff position': '(1/4,1/4,1/4), (3/4,3/4,3/4)'}]"
      ]
     },
     "execution_count": 2,
     "metadata": {},
     "output_type": "execute_result"
    }
   ],
   "source": [
    "from shotgun_csp.utils import SpaceGroupDB\n",
    "\n",
    "wys = SpaceGroupDB.get(spacegroup_num=167).wyckoffs\n",
    "[\n",
    "    {\"Wyckoff letter\": w.letter, \"multiplicity\": w.multiplicity, \"reusable\": w.reuse, \"Wyckoff position\": w.positions}\n",
    "    for w in wys\n",
    "]"
   ]
  },
  {
   "cell_type": "markdown",
   "metadata": {},
   "source": [
    "### 2. generate Wyckoff configurations\n",
    "\n",
    "As an example, we will try to generate structures for `Ca2C2O6`. The true space group of this structure is `167`, and the Wyckoff configuration is `{Ca: 2b, C: 2a, O: 6e}`.\n",
    "First, let's generate some possible Wyckoff configurations for the composition `Ca2C2O6` under space group `167`."
   ]
  },
  {
   "cell_type": "code",
   "execution_count": 3,
   "metadata": {},
   "outputs": [
    {
     "name": "stdout",
     "output_type": "stream",
     "text": [
      "\u001b[0;31mInit signature:\u001b[0m\n",
      "\u001b[0mWyckoffCfgGenerator\u001b[0m\u001b[0;34m(\u001b[0m\u001b[0;34m\u001b[0m\n",
      "\u001b[0;34m\u001b[0m    \u001b[0mcomposition\u001b[0m\u001b[0;34m,\u001b[0m\u001b[0;34m\u001b[0m\n",
      "\u001b[0;34m\u001b[0m    \u001b[0;34m*\u001b[0m\u001b[0;34m,\u001b[0m\u001b[0;34m\u001b[0m\n",
      "\u001b[0;34m\u001b[0m    \u001b[0mmax_recurrent\u001b[0m\u001b[0;34m:\u001b[0m \u001b[0mint\u001b[0m \u001b[0;34m=\u001b[0m \u001b[0;36m1000\u001b[0m\u001b[0;34m,\u001b[0m\u001b[0;34m\u001b[0m\n",
      "\u001b[0;34m\u001b[0m    \u001b[0mn_jobs\u001b[0m\u001b[0;34m:\u001b[0m \u001b[0mint\u001b[0m \u001b[0;34m=\u001b[0m \u001b[0;34m-\u001b[0m\u001b[0;36m1\u001b[0m\u001b[0;34m,\u001b[0m\u001b[0;34m\u001b[0m\n",
      "\u001b[0;34m\u001b[0m    \u001b[0mpriority\u001b[0m\u001b[0;34m:\u001b[0m \u001b[0mOptional\u001b[0m\u001b[0;34m[\u001b[0m\u001b[0mDict\u001b[0m\u001b[0;34m[\u001b[0m\u001b[0mint\u001b[0m\u001b[0;34m,\u001b[0m \u001b[0mDict\u001b[0m\u001b[0;34m[\u001b[0m\u001b[0mstr\u001b[0m\u001b[0;34m,\u001b[0m \u001b[0mfloat\u001b[0m\u001b[0;34m]\u001b[0m\u001b[0;34m]\u001b[0m\u001b[0;34m]\u001b[0m \u001b[0;34m=\u001b[0m \u001b[0;32mNone\u001b[0m\u001b[0;34m,\u001b[0m\u001b[0;34m\u001b[0m\n",
      "\u001b[0;34m\u001b[0m    \u001b[0mverbose\u001b[0m\u001b[0;34m:\u001b[0m \u001b[0mbool\u001b[0m \u001b[0;34m=\u001b[0m \u001b[0;32mFalse\u001b[0m\u001b[0;34m,\u001b[0m\u001b[0;34m\u001b[0m\n",
      "\u001b[0;34m\u001b[0m\u001b[0;34m)\u001b[0m\u001b[0;34m\u001b[0m\u001b[0;34m\u001b[0m\u001b[0m\n",
      "\u001b[0;31mDocstring:\u001b[0m      <no docstring>\n",
      "\u001b[0;31mInit docstring:\u001b[0m\n",
      "A generator for possible Wyckoff configuration generation.\n",
      "\n",
      "Parameters\n",
      "----------\n",
      "max_recurrent:\n",
      "    Max recurrent until generate a reasonable structure, by default 5_000\n",
      "n_jobs:\n",
      "    Number of cpu cores when parallel calculation, by default -1\n",
      "priority:\n",
      "    Priorities for Wyckoff letters. By default, a Wyckoff letter will be sampled\n",
      "    from an Uniform distribution of the all available letters.\n",
      "    Give this parameter will overwrite the corresponding priority list of Wyckoff letters.\n",
      "    For example, space group 167 has Wyckoff letters `[a, b, c, d, e, f]`\n",
      "    If priority is None, all wyckoff letters will be selected under uniform distribution.\n",
      "    Now, we want to lift the priority `a`, `b` and `d`, we can give parameter `priority`\n",
      "    a values like this: `{167: {a: 2, b: 2, d: 2}}`. After that, the\n",
      "    new priority change to `{a: 2, b: 2, c: 0, d: 2, e: 0, f: 0}`. When generating,\n",
      "    the priority list will be normalized as this `{a: 2/6, b: 2/6, c: 0/6, d: 2/6 e: 0/6, f: 0/6}`.\n",
      "composition:\n",
      "    Composition of compounds in the primitive cell; should be formatted\n",
      "    as {<element symbol>: <ratio in float>}.\n",
      "\u001b[0;31mFile:\u001b[0m           ~/projects/crystallus/shotgun_csp/generator/wyckoff_base/wyckoff_cfg_generator.py\n",
      "\u001b[0;31mType:\u001b[0m           type\n",
      "\u001b[0;31mSubclasses:\u001b[0m     "
     ]
    }
   ],
   "source": [
    "from shotgun_csp.generator.wyckoff_base import WyckoffCfgGenerator\n",
    "\n",
    "WyckoffCfgGenerator?"
   ]
  },
  {
   "cell_type": "code",
   "execution_count": 4,
   "metadata": {},
   "outputs": [
    {
     "data": {
      "text/plain": [
       "WyckoffCfgGenerator(            \n",
       "    max_recurrent=1000,            \n",
       "    n_jobs=-1            \n",
       "    priority=None            \n",
       "    composition={'Ca': 2, 'C': 2, 'O': 6}            \n",
       "    verbose=False            \n",
       ")"
      ]
     },
     "execution_count": 4,
     "metadata": {},
     "output_type": "execute_result"
    }
   ],
   "source": [
    "composition = {\"Ca\": 2, \"C\": 2, \"O\": 6}\n",
    "\n",
    "wyg = WyckoffCfgGenerator(composition, verbose=False)\n",
    "wyg"
   ]
  },
  {
   "cell_type": "markdown",
   "metadata": {},
   "source": [
    "You have noticed that the minimum input for the initialization of a `WyckoffCfgGenerator` is just chemical composition as a python dict.\n",
    "Then, we can use `wyg.gen_one` or `wyg.gen_many` methods to generate Wyckoff configuration(s).\n",
    "\n",
    "First, let's try the `gen_one` method."
   ]
  },
  {
   "cell_type": "code",
   "execution_count": 5,
   "metadata": {},
   "outputs": [
    {
     "name": "stdout",
     "output_type": "stream",
     "text": [
      "\u001b[0;31mSignature:\u001b[0m \u001b[0mwyg\u001b[0m\u001b[0;34m.\u001b[0m\u001b[0mgen_one\u001b[0m\u001b[0;34m(\u001b[0m\u001b[0;34m*\u001b[0m\u001b[0;34m,\u001b[0m \u001b[0mspacegroup_num\u001b[0m\u001b[0;34m:\u001b[0m \u001b[0mint\u001b[0m\u001b[0;34m)\u001b[0m\u001b[0;34m\u001b[0m\u001b[0;34m\u001b[0m\u001b[0m\n",
      "\u001b[0;31mDocstring:\u001b[0m\n",
      "Try to generate a possible Wyckoff configuration under the given space group.\n",
      "\n",
      "Parameters\n",
      "----------\n",
      "spacegroup_num:\n",
      "    Space group number.\n",
      "\n",
      "Returns\n",
      "-------\n",
      "Dict\n",
      "    Wyckoff configuration set, which is a dict with format like:\n",
      "    {\"Li\": [\"a\", \"c\"], \"O\": [\"i\"]}. Here, the \"Li\" is an available element\n",
      "    symbol and [\"a\", \"c\"] is a list which contains coresponding Wyckoff\n",
      "    letters. For convenience, dict will be sorted by keys.\n",
      "\u001b[0;31mFile:\u001b[0m      ~/projects/crystallus/shotgun_csp/generator/wyckoff_base/wyckoff_cfg_generator.py\n",
      "\u001b[0;31mType:\u001b[0m      method"
     ]
    }
   ],
   "source": [
    "wyg.gen_one?"
   ]
  },
  {
   "cell_type": "code",
   "execution_count": 6,
   "metadata": {},
   "outputs": [
    {
     "data": {
      "text/plain": [
       "{'C': ['b'], 'Ca': ['a'], 'O': ['e']}"
      ]
     },
     "execution_count": 6,
     "metadata": {},
     "output_type": "execute_result"
    }
   ],
   "source": [
    "import logging\n",
    "\n",
    "logging.basicConfig()\n",
    "logging.getLogger().setLevel(logging.INFO)\n",
    "\n",
    "cfg = wyg.gen_one(spacegroup_num=167)\n",
    "cfg"
   ]
  },
  {
   "cell_type": "markdown",
   "metadata": {},
   "source": [
    "If everything goes well, the above cell will return a dict contains something like: `{'C': ['b'], 'Ca': ['a'], 'O': ['d']}`.\n",
    "Here, `C`, `Ca`, and `O` are the element names. All elements are sorted by their alphabet. The `['b']`, `['a']`, and `['d']` are the corresponding Wyckoff positions which are provided by Wyckoff letters.\n",
    "\n",
    "Maybe you are confused that the return of this method is not unique. That makes sense because under space group `167`, there are four possible configurations for the composition `Ca2C2O6`. Call the `gen_one` method will execute a random search in all possible configurations. When it finds one, it returns the result and stops searching. This means if you want to get more configurations, you should call the `gen_one` method many times.\n",
    "\n",
    "We know that for almost all the cases, the possible configurations are not one, to simplify your works, we provide the `gen_many` method."
   ]
  },
  {
   "cell_type": "code",
   "execution_count": 7,
   "metadata": {},
   "outputs": [
    {
     "name": "stdout",
     "output_type": "stream",
     "text": [
      "\u001b[0;31mSignature:\u001b[0m \u001b[0mwyg\u001b[0m\u001b[0;34m.\u001b[0m\u001b[0mgen_many\u001b[0m\u001b[0;34m(\u001b[0m\u001b[0msize\u001b[0m\u001b[0;34m:\u001b[0m \u001b[0mint\u001b[0m\u001b[0;34m,\u001b[0m \u001b[0;34m*\u001b[0m\u001b[0;34m,\u001b[0m \u001b[0mspacegroup_num\u001b[0m\u001b[0;34m:\u001b[0m \u001b[0mUnion\u001b[0m\u001b[0;34m[\u001b[0m\u001b[0mint\u001b[0m\u001b[0;34m,\u001b[0m \u001b[0mSequence\u001b[0m\u001b[0;34m[\u001b[0m\u001b[0mint\u001b[0m\u001b[0;34m]\u001b[0m\u001b[0;34m]\u001b[0m\u001b[0;34m)\u001b[0m\u001b[0;34m\u001b[0m\u001b[0;34m\u001b[0m\u001b[0m\n",
      "\u001b[0;31mDocstring:\u001b[0m\n",
      "Try to generate possible Wyckoff configuration sets.\n",
      "\n",
      "Parameters\n",
      "----------\n",
      "size:\n",
      "    How many times to try for one space group.\n",
      "spacegroup_num:\n",
      "    Spacegroup numbers to generate Wyckoff configurations.\n",
      "\n",
      "Returns\n",
      "-------\n",
      "Dict[int, List[Dict]], List[Dict]\n",
      "    A collection contains spacegroup number and it's corresponding Wyckoff\n",
      "    configurations (wy_cfg). If only one spacegroup number was given,\n",
      "    will only return the list of wy_cfgs, otherwise return in dict with\n",
      "    spacegroup number as key. wy_cfgs will be formated as\n",
      "    {element 1: [Wyckoff_letter, Wyckoff_letter, ...], element 2: [...], ...}.\n",
      "\u001b[0;31mFile:\u001b[0m      ~/projects/crystallus/shotgun_csp/generator/wyckoff_base/wyckoff_cfg_generator.py\n",
      "\u001b[0;31mType:\u001b[0m      method"
     ]
    }
   ],
   "source": [
    "wyg.gen_many?"
   ]
  },
  {
   "cell_type": "code",
   "execution_count": 8,
   "metadata": {},
   "outputs": [
    {
     "data": {
      "text/plain": [
       "[{'C': ['b'], 'Ca': ['a'], 'O': ['d']},\n",
       " {'C': ['b'], 'Ca': ['a'], 'O': ['e']},\n",
       " {'C': ['a'], 'Ca': ['b'], 'O': ['d']},\n",
       " {'C': ['a'], 'Ca': ['b'], 'O': ['e']}]"
      ]
     },
     "execution_count": 8,
     "metadata": {},
     "output_type": "execute_result"
    }
   ],
   "source": [
    "cfgs = wyg.gen_many(10, spacegroup_num=167)\n",
    "cfgs"
   ]
  },
  {
   "cell_type": "markdown",
   "metadata": {},
   "source": [
    "You can calculate more multiply space group in one call. Just list space group numbers as `*` parameters. In this case, the return will be a dict with space group number as key and configuration list as value. For example, if our space group candidate are `[194, 148, 167]`, you can call `gen_many` like this:"
   ]
  },
  {
   "cell_type": "code",
   "execution_count": 9,
   "metadata": {
    "tags": []
   },
   "outputs": [
    {
     "name": "stdout",
     "output_type": "stream",
     "text": [
      "CPU times: user 227 ms, sys: 4.27 ms, total: 231 ms\n",
      "Wall time: 14.2 ms\n"
     ]
    },
    {
     "data": {
      "text/plain": [
       "{194: [{'C': ['c'], 'Ca': ['d'], 'O': ['b', 'f']},\n",
       "  {'C': ['b'], 'Ca': ['a'], 'O': ['d', 'e']},\n",
       "  {'C': ['d'], 'Ca': ['b'], 'O': ['c', 'e']},\n",
       "  {'C': ['d'], 'Ca': ['b'], 'O': ['a', 'e']},\n",
       "  {'C': ['d'], 'Ca': ['c'], 'O': ['b', 'e']},\n",
       "  {'C': ['b'], 'Ca': ['d'], 'O': ['g']},\n",
       "  {'C': ['c'], 'Ca': ['a'], 'O': ['d', 'f']},\n",
       "  {'C': ['a'], 'Ca': ['d'], 'O': ['c', 'f']},\n",
       "  {'C': ['a'], 'Ca': ['c'], 'O': ['g']},\n",
       "  {'C': ['b'], 'Ca': ['d'], 'O': ['c', 'e']},\n",
       "  {'C': ['d'], 'Ca': ['a'], 'O': ['c', 'f']},\n",
       "  {'C': ['d'], 'Ca': ['a'], 'O': ['h']},\n",
       "  {'C': ['d'], 'Ca': ['c'], 'O': ['b', 'f']},\n",
       "  {'C': ['d'], 'Ca': ['b'], 'O': ['a', 'f']},\n",
       "  {'C': ['a'], 'Ca': ['d'], 'O': ['b', 'f']},\n",
       "  {'C': ['a'], 'Ca': ['c'], 'O': ['b', 'e']},\n",
       "  {'C': ['b'], 'Ca': ['c'], 'O': ['g']},\n",
       "  {'C': ['c'], 'Ca': ['b'], 'O': ['d', 'e']},\n",
       "  {'C': ['a'], 'Ca': ['c'], 'O': ['d', 'e']},\n",
       "  {'C': ['c'], 'Ca': ['a'], 'O': ['g']}],\n",
       " 148: [{'C': ['c'], 'Ca': ['c'], 'O': ['f']},\n",
       "  {'C': ['a', 'b'], 'Ca': ['c'], 'O': ['f']},\n",
       "  {'C': ['c'], 'Ca': ['c'], 'O': ['a', 'c', 'd']},\n",
       "  {'C': ['c'], 'Ca': ['a', 'b'], 'O': ['d', 'e']},\n",
       "  {'C': ['c'], 'Ca': ['a', 'b'], 'O': ['f']},\n",
       "  {'C': ['c'], 'Ca': ['c'], 'O': ['a', 'c', 'e']},\n",
       "  {'C': ['a', 'b'], 'Ca': ['c'], 'O': ['d', 'e']}],\n",
       " 167: [{'C': ['a'], 'Ca': ['b'], 'O': ['e']},\n",
       "  {'C': ['a'], 'Ca': ['b'], 'O': ['d']},\n",
       "  {'C': ['b'], 'Ca': ['a'], 'O': ['d']},\n",
       "  {'C': ['b'], 'Ca': ['a'], 'O': ['e']}]}"
      ]
     },
     "execution_count": 9,
     "metadata": {},
     "output_type": "execute_result"
    }
   ],
   "source": [
    "%%time\n",
    "\n",
    "cfgs = wyg.gen_many(20, spacegroup_num=(194, 148, 167))\n",
    "cfgs"
   ]
  },
  {
   "cell_type": "markdown",
   "metadata": {},
   "source": [
    "`gen_many_iter` is an iterative version of `gen_many`. You can use this method to render a progress bar during generation, or something else you want."
   ]
  },
  {
   "cell_type": "code",
   "execution_count": 10,
   "metadata": {
    "tags": []
   },
   "outputs": [
    {
     "data": {
      "application/vnd.jupyter.widget-view+json": {
       "model_id": "4d21f370f4524d07b9f79906102a41c3",
       "version_major": 2,
       "version_minor": 0
      },
      "text/plain": [
       "  0%|          | 0/9 [00:00<?, ?it/s]"
      ]
     },
     "metadata": {},
     "output_type": "display_data"
    },
    {
     "name": "stdout",
     "output_type": "stream",
     "text": [
      "space group: 194, size of generated samples: 72\n",
      "space group: 148, size of generated samples: 14\n",
      "space group: 167, size of generated samples: 4\n",
      "space group: 161, size of generated samples: 2\n",
      "space group: 11, size of generated samples: 199\n",
      "space group: 12, size of generated samples: 2395\n",
      "space group: 65, size of generated samples: 4358\n",
      "space group: 140, size of generated samples: 96\n",
      "space group: 225, size of generated samples: 4\n",
      "CPU times: user 1min 52s, sys: 42.5 ms, total: 1min 52s\n",
      "Wall time: 3.21 s\n"
     ]
    }
   ],
   "source": [
    "%%time\n",
    "\n",
    "from tqdm.notebook import tqdm\n",
    "\n",
    "space_group_cans = [194, 148, 167, 161, 11, 12, 65, 140, 225]\n",
    "\n",
    "with tqdm(total=len(space_group_cans)) as pbar:\n",
    "    for spacegroup_num, cfg_list in wyg.gen_many_iter(5000, spacegroup_num=space_group_cans):\n",
    "        print(f\"space group: {spacegroup_num}, size of generated samples: {len(cfg_list)}\")\n",
    "        pbar.update()"
   ]
  },
  {
   "cell_type": "markdown",
   "metadata": {},
   "source": [
    "### 3. generate Wyckoff configurations with prior probability\n",
    "\n",
    "Sometimes, we'd like to generate Wyckoff configurations from a given priority list of Wyckoff letters. For example, in the case of `Ca2C2O6` with space group `167`, we expect that the possible Wyckoff positions [`a`, `b`, `d`, `e`] should be sampled by the probability of [40%, 20%, 40%, 0%], respectively.\n",
    "We provide the `priority` option just for these cases."
   ]
  },
  {
   "cell_type": "code",
   "execution_count": 11,
   "metadata": {},
   "outputs": [
    {
     "data": {
      "text/plain": [
       "WyckoffCfgGenerator(            \n",
       "    max_recurrent=1000,            \n",
       "    n_jobs=-1            \n",
       "    priority={167: {'a': 0.4, 'b': 0.2, 'd': 0.4, 'e': 0}}            \n",
       "    composition={'Ca': 2, 'C': 2, 'O': 6}            \n",
       "    verbose=False            \n",
       ")"
      ]
     },
     "execution_count": 11,
     "metadata": {},
     "output_type": "execute_result"
    }
   ],
   "source": [
    "composition = {\"Ca\": 2, \"C\": 2, \"O\": 6}\n",
    "\n",
    "wyg = WyckoffCfgGenerator(\n",
    "    composition,\n",
    "    priority={167: {\"a\": 0.4, \"b\": 0.2, \"d\": 0.4, \"e\": 0}},\n",
    ")\n",
    "wyg"
   ]
  },
  {
   "cell_type": "markdown",
   "metadata": {},
   "source": [
    "When generating, the priority list will be normalized. You can see that we can only get two configurations without letter `e`."
   ]
  },
  {
   "cell_type": "code",
   "execution_count": 12,
   "metadata": {},
   "outputs": [
    {
     "data": {
      "text/plain": [
       "[{'C': ['a'], 'Ca': ['b'], 'O': ['d']}, {'C': ['b'], 'Ca': ['a'], 'O': ['d']}]"
      ]
     },
     "execution_count": 12,
     "metadata": {},
     "output_type": "execute_result"
    }
   ],
   "source": [
    "cfgs = wyg.gen_many(100, spacegroup_num=167)\n",
    "cfgs"
   ]
  },
  {
   "cell_type": "markdown",
   "metadata": {},
   "source": [
    "Also you can test that if we remove letter `a` from the priority list, we can not generate any configuration because `a` and `b` must exist."
   ]
  },
  {
   "cell_type": "code",
   "execution_count": 13,
   "metadata": {},
   "outputs": [
    {
     "data": {
      "text/plain": [
       "[]"
      ]
     },
     "execution_count": 13,
     "metadata": {},
     "output_type": "execute_result"
    }
   ],
   "source": [
    "wyg = WyckoffCfgGenerator(\n",
    "    composition,\n",
    "    priority={167: {\"a\": 0.0}},\n",
    ")\n",
    "wyg.gen_many(100, spacegroup_num=167)"
   ]
  },
  {
   "cell_type": "markdown",
   "metadata": {},
   "source": [
    "### 4. generate crystal structures\n",
    "\n",
    "We have generated some Wyckoff configurations, the next is consuming the Wyckoff configurations to generate crystal structures. To facilitate the task, we provide the `CrystalGenerator` class."
   ]
  },
  {
   "cell_type": "code",
   "execution_count": 14,
   "metadata": {},
   "outputs": [
    {
     "name": "stdout",
     "output_type": "stream",
     "text": [
      "\u001b[0;31mInit signature:\u001b[0m\n",
      "\u001b[0mCrystalGenerator\u001b[0m\u001b[0;34m(\u001b[0m\u001b[0;34m\u001b[0m\n",
      "\u001b[0;34m\u001b[0m    \u001b[0mspacegroup_num\u001b[0m\u001b[0;34m:\u001b[0m \u001b[0mint\u001b[0m\u001b[0;34m,\u001b[0m\u001b[0;34m\u001b[0m\n",
      "\u001b[0;34m\u001b[0m    \u001b[0mvolume_of_cell\u001b[0m\u001b[0;34m:\u001b[0m \u001b[0mfloat\u001b[0m\u001b[0;34m,\u001b[0m\u001b[0;34m\u001b[0m\n",
      "\u001b[0;34m\u001b[0m    \u001b[0mvariance_of_volume\u001b[0m\u001b[0;34m:\u001b[0m \u001b[0mfloat\u001b[0m\u001b[0;34m,\u001b[0m\u001b[0;34m\u001b[0m\n",
      "\u001b[0;34m\u001b[0m    \u001b[0;34m*\u001b[0m\u001b[0;34m,\u001b[0m\u001b[0;34m\u001b[0m\n",
      "\u001b[0;34m\u001b[0m    \u001b[0mangle_range\u001b[0m\u001b[0;34m:\u001b[0m \u001b[0mTuple\u001b[0m\u001b[0;34m[\u001b[0m\u001b[0mfloat\u001b[0m\u001b[0;34m,\u001b[0m \u001b[0mfloat\u001b[0m\u001b[0;34m]\u001b[0m \u001b[0;34m=\u001b[0m \u001b[0;34m(\u001b[0m\u001b[0;36m30.0\u001b[0m\u001b[0;34m,\u001b[0m \u001b[0;36m150.0\u001b[0m\u001b[0;34m)\u001b[0m\u001b[0;34m,\u001b[0m\u001b[0;34m\u001b[0m\n",
      "\u001b[0;34m\u001b[0m    \u001b[0mangle_tolerance\u001b[0m\u001b[0;34m:\u001b[0m \u001b[0mfloat\u001b[0m \u001b[0;34m=\u001b[0m \u001b[0;36m20.0\u001b[0m\u001b[0;34m,\u001b[0m\u001b[0;34m\u001b[0m\n",
      "\u001b[0;34m\u001b[0m    \u001b[0mlattice\u001b[0m\u001b[0;34m:\u001b[0m \u001b[0mOptional\u001b[0m\u001b[0;34m[\u001b[0m\u001b[0mTuple\u001b[0m\u001b[0;34m[\u001b[0m\u001b[0mfloat\u001b[0m\u001b[0;34m]\u001b[0m\u001b[0;34m]\u001b[0m \u001b[0;34m=\u001b[0m \u001b[0;32mNone\u001b[0m\u001b[0;34m,\u001b[0m\u001b[0;34m\u001b[0m\n",
      "\u001b[0;34m\u001b[0m    \u001b[0mempirical_coords\u001b[0m\u001b[0;34m:\u001b[0m \u001b[0mOptional\u001b[0m\u001b[0;34m[\u001b[0m\u001b[0mList\u001b[0m\u001b[0;34m[\u001b[0m\u001b[0mTuple\u001b[0m\u001b[0;34m[\u001b[0m\u001b[0mstr\u001b[0m\u001b[0;34m,\u001b[0m \u001b[0mList\u001b[0m\u001b[0;34m[\u001b[0m\u001b[0mfloat\u001b[0m\u001b[0;34m]\u001b[0m\u001b[0;34m]\u001b[0m\u001b[0;34m]\u001b[0m\u001b[0;34m]\u001b[0m \u001b[0;34m=\u001b[0m \u001b[0;32mNone\u001b[0m\u001b[0;34m,\u001b[0m\u001b[0;34m\u001b[0m\n",
      "\u001b[0;34m\u001b[0m    \u001b[0mempirical_coords_variance\u001b[0m\u001b[0;34m:\u001b[0m \u001b[0mfloat\u001b[0m \u001b[0;34m=\u001b[0m \u001b[0;36m0.01\u001b[0m\u001b[0;34m,\u001b[0m\u001b[0;34m\u001b[0m\n",
      "\u001b[0;34m\u001b[0m    \u001b[0mempirical_coords_sampling_rate\u001b[0m\u001b[0;34m:\u001b[0m \u001b[0mfloat\u001b[0m \u001b[0;34m=\u001b[0m \u001b[0;36m1.0\u001b[0m\u001b[0;34m,\u001b[0m\u001b[0;34m\u001b[0m\n",
      "\u001b[0;34m\u001b[0m    \u001b[0mempirical_coords_loose_sampling\u001b[0m\u001b[0;34m:\u001b[0m \u001b[0mbool\u001b[0m \u001b[0;34m=\u001b[0m \u001b[0;32mTrue\u001b[0m\u001b[0;34m,\u001b[0m\u001b[0;34m\u001b[0m\n",
      "\u001b[0;34m\u001b[0m    \u001b[0mmax_attempts_number\u001b[0m\u001b[0;34m:\u001b[0m \u001b[0mint\u001b[0m \u001b[0;34m=\u001b[0m \u001b[0;36m5000\u001b[0m\u001b[0;34m,\u001b[0m\u001b[0;34m\u001b[0m\n",
      "\u001b[0;34m\u001b[0m    \u001b[0mn_jobs\u001b[0m\u001b[0;34m:\u001b[0m \u001b[0mint\u001b[0m \u001b[0;34m=\u001b[0m \u001b[0;34m-\u001b[0m\u001b[0;36m1\u001b[0m\u001b[0;34m,\u001b[0m\u001b[0;34m\u001b[0m\n",
      "\u001b[0;34m\u001b[0m    \u001b[0mverbose\u001b[0m\u001b[0;34m:\u001b[0m \u001b[0mbool\u001b[0m \u001b[0;34m=\u001b[0m \u001b[0;32mFalse\u001b[0m\u001b[0;34m,\u001b[0m\u001b[0;34m\u001b[0m\n",
      "\u001b[0;34m\u001b[0m\u001b[0;34m)\u001b[0m\u001b[0;34m\u001b[0m\u001b[0;34m\u001b[0m\u001b[0m\n",
      "\u001b[0;31mDocstring:\u001b[0m      <no docstring>\n",
      "\u001b[0;31mInit docstring:\u001b[0m\n",
      "A generator for possible crystal structure generation.\n",
      "\n",
      "Parameters\n",
      "----------\n",
      "spacegroup_num:\n",
      "    Specify the spacegroup.\n",
      "volume_of_cell:\n",
      "    The estimated volume of primitive cell. Unit is Å^3.\n",
      "variance_of_volume:\n",
      "    The estimated variance of volume prediction. Unit is Å^3.\n",
      "    ``volume_of_cell`` and ``variance_of_volume`` will be used to build\n",
      "    a Gaussion distribution for the sampling of volume of primitive cell.\n",
      "    We will use the abstract valuse if sampled volume is negative.\n",
      "angle_range:\n",
      "    The range of the degree of angles when lattice generation. by default (30., 150.)\n",
      "angle_tolerance:\n",
      "    The Tolerance of minimum of the degree of angles when lattice generation, by default 20.\n",
      "lattice:\n",
      "    Lattice in symmetric cell. optional.\n",
      "    Given this parameter will specify all angles and the aspect ration between lengths of the lattice.\n",
      "    The certain lengths will be calculated from volume. Default ``None``.\n",
      "empirical_coords:\n",
      "    Empirical distributuion of atomic coordinates. The coordinates should be given in Wyckoff position\n",
      "    format. For example: for Wyckoff letter `c` in space group 167, the corresponding positions are\n",
      "    `(0,0,z) (0,0,-z+1/2) (0,0,-z) (0,0,z+1/2)`. So a fraction coordinate in lattice such as\n",
      "    `[[0,0,0.3] [0,0,0.2] [0,0,0.7] [0,0,0.8]]` should be converted to `([0, 0, 0.3])`.\n",
      "    The key of each coordinates pool has two mode, the one is using Wyckoff position letter, for example\n",
      "    `[('a', [0, 0, 0.3]), ('b': [...])]`, the other is by element and Wyckoff position letter,\n",
      "    for example `[('Ca:a': [0, 0, 0.3]), ('Ca:b': [...])], ('C:a': [...])]`. You can use parameter\n",
      "    `empirical_coords_loose_sampling` to switch modes.\n",
      "empirical_coords_variance:\n",
      "    The variance of empirical_coords. This parameter will be used to build a Gaussian distribution.\n",
      "    The generator will sample values from the distribution as the perturbation of empirical coordinates.\n",
      "empirical_coords_sampling_rate:\n",
      "    The sampling rate when sampling the empirical coordinates.\n",
      "    A higher rate means instead of random generation,\n",
      "    sampling from empirical coordinate distribution as more as possible when generating.\n",
      "    Must be in 0 ~ 1, default 1.\n",
      "empirical_coords_loose_sampling:\n",
      "    Specify the sampling mode. `True` for using Wyckoff position letter, `False` means using\n",
      "    element and Wyckoff position letter. See parameter `empirical_coords` for details.\n",
      "max_attempts_number : int, optional\n",
      "    Max recurrent until generate a reasonable lattice, by default is 5_000\n",
      "n_jobs : int, optional\n",
      "    Number of cpu cores when parallel calculation, by default -1\n",
      "verbose: bool, optional\n",
      "    Set to ``True`` to show more information.\n",
      "\u001b[0;31mFile:\u001b[0m           ~/projects/crystallus/shotgun_csp/generator/wyckoff_base/crystal_generator.py\n",
      "\u001b[0;31mType:\u001b[0m           type\n",
      "\u001b[0;31mSubclasses:\u001b[0m     "
     ]
    }
   ],
   "source": [
    "from shotgun_csp.generator.wyckoff_base import CrystalGenerator\n",
    "\n",
    "CrystalGenerator?"
   ]
  },
  {
   "cell_type": "markdown",
   "metadata": {},
   "source": [
    "To initialize a `CrystalGenerator`, parameter `spacegroup_num`, `volume_of_cell` of primitive cell and the `variance_of_volume` are needed at least."
   ]
  },
  {
   "cell_type": "code",
   "execution_count": 15,
   "metadata": {},
   "outputs": [
    {
     "data": {
      "text/plain": [
       "CrystalGenerator(            \n",
       "    spacegroup_num=167,            \n",
       "    volume_of_cell=127.170256,            \n",
       "    variance_of_volume=40.0,            \n",
       "    angle_range=(30.0, 150.0),            \n",
       "    angle_tolerance=20.0,            \n",
       "    max_attempts_number=5000,            \n",
       "    lattice=None,            \n",
       "    empirical_coords=None,            \n",
       "    empirical_coords_variance=0.01,            \n",
       "    empirical_coords_sampling_rate=1.0,            \n",
       "    empirical_coords_loose_sampling=True,            \n",
       "    verbose=False            \n",
       "    n_jobs=-1            \n",
       ")"
      ]
     },
     "execution_count": 15,
     "metadata": {},
     "output_type": "execute_result"
    }
   ],
   "source": [
    "volume_of_cell = 127.170256\n",
    "variance_of_volume = 40.0\n",
    "sp_num = 167\n",
    "\n",
    "cg = CrystalGenerator(sp_num, volume_of_cell, variance_of_volume)\n",
    "cg"
   ]
  },
  {
   "cell_type": "markdown",
   "metadata": {},
   "source": [
    "Like the `WyckoffCfgGenerator`, there are also `gen_one`, `gen_many`, and `gen_may_iter` methods attached with `CrystalGenerator` object. Let's ues the `gen_one` method for a quick try."
   ]
  },
  {
   "cell_type": "code",
   "execution_count": 16,
   "metadata": {},
   "outputs": [
    {
     "name": "stdout",
     "output_type": "stream",
     "text": [
      "\u001b[0;31mSignature:\u001b[0m\n",
      "\u001b[0mcg\u001b[0m\u001b[0;34m.\u001b[0m\u001b[0mgen_one\u001b[0m\u001b[0;34m(\u001b[0m\u001b[0;34m\u001b[0m\n",
      "\u001b[0;34m\u001b[0m    \u001b[0mwyckoff_cfg\u001b[0m\u001b[0;34m:\u001b[0m \u001b[0mDict\u001b[0m\u001b[0;34m[\u001b[0m\u001b[0mstr\u001b[0m\u001b[0;34m,\u001b[0m \u001b[0mTuple\u001b[0m\u001b[0;34m[\u001b[0m\u001b[0mstr\u001b[0m\u001b[0;34m]\u001b[0m\u001b[0;34m]\u001b[0m\u001b[0;34m,\u001b[0m\u001b[0;34m\u001b[0m\n",
      "\u001b[0;34m\u001b[0m    \u001b[0;34m*\u001b[0m\u001b[0;34m,\u001b[0m\u001b[0;34m\u001b[0m\n",
      "\u001b[0;34m\u001b[0m    \u001b[0mcheck_distance\u001b[0m\u001b[0;34m:\u001b[0m \u001b[0mbool\u001b[0m \u001b[0;34m=\u001b[0m \u001b[0;32mTrue\u001b[0m\u001b[0;34m,\u001b[0m\u001b[0;34m\u001b[0m\n",
      "\u001b[0;34m\u001b[0m    \u001b[0mdistance_scale_factor\u001b[0m\u001b[0;34m:\u001b[0m \u001b[0mfloat\u001b[0m \u001b[0;34m=\u001b[0m \u001b[0;36m0.1\u001b[0m\u001b[0;34m,\u001b[0m\u001b[0;34m\u001b[0m\n",
      "\u001b[0;34m\u001b[0m\u001b[0;34m)\u001b[0m\u001b[0;34m\u001b[0m\u001b[0;34m\u001b[0m\u001b[0m\n",
      "\u001b[0;31mDocstring:\u001b[0m\n",
      "Try to generate a legal crystal structure with given configuration set.\n",
      "\n",
      "Parameters\n",
      "----------\n",
      "wyckoff_cfg:\n",
      "    Wyckoff Configuration set, which is a dict with format like:\n",
      "    {\"Li\": [\"a\", \"c\"], \"O\": [\"i\"]}. Here, the \"Li\" is an available element\n",
      "    symbol and [\"a\", \"c\"] is a list which contains coresponding Wyckoff\n",
      "    letters. For convenience, dict will be sorted by keys.\n",
      "check_distance:\n",
      "    Whether the atomic distance should be checked. default ``True``\n",
      "distance_scale_factor:\n",
      "    Scale factor to determine the tolerance of atomic distances when distance checking. Unit is Å,\n",
      "    When ``check_distance`` is ``True``, Any structure has\n",
      "    all_atomic_distance < (A_atom_covalent_radius + B_atom_covalent_radius) * (1 - distance_scale_factor) will be rejected,\n",
      "    by default 0.1\n",
      "\n",
      "Returns\n",
      "-------\n",
      "Dict\n",
      "    Structure information contains ``spacegroup_mun: int``,\n",
      "    ``volume: float``, ``lattice: list``, ``wyckoff_letters: list``,\n",
      "    and ``coords: list``.\n",
      "\u001b[0;31mFile:\u001b[0m      ~/projects/crystallus/shotgun_csp/generator/wyckoff_base/crystal_generator.py\n",
      "\u001b[0;31mType:\u001b[0m      method"
     ]
    }
   ],
   "source": [
    "cg.gen_one?"
   ]
  },
  {
   "cell_type": "markdown",
   "metadata": {},
   "source": [
    "All `gen_xxx` methods consume Wyckoff configurations to generate crystal structures. Please note the parameter `distance_scale_factor`, generator use this parameter to determine the acceptabel atomic distance. Here is the accept condition:\n",
    "> distance between atom `a` and `b` > (radius of `a` + radius of `b`) x (1 – `distance_scale_factor`).\n",
    "\n",
    "If the generator cannot generate any structure after multiple attempts, you can try to relax the atomic distance constraint by increasing this parameter."
   ]
  },
  {
   "cell_type": "code",
   "execution_count": 18,
   "metadata": {
    "tags": []
   },
   "outputs": [
    {
     "name": "stdout",
     "output_type": "stream",
     "text": [
      "CPU times: user 1.31 ms, sys: 0 ns, total: 1.31 ms\n",
      "Wall time: 1.33 ms\n"
     ]
    },
    {
     "data": {
      "text/plain": [
       "{'spacegroup_num': 167,\n",
       " 'volume': 101.48084899348507,\n",
       " 'lattice': [[4.630626284667379, 0.0, 1.5123229929364803],\n",
       "  [1.0970218133201437, 4.4988046111553, 1.5123229929364803],\n",
       "  [0.0, 0.0, 4.871326372069189]],\n",
       " 'species': ['C', 'C', 'Ca', 'Ca', 'O', 'O', 'O', 'O', 'O', 'O'],\n",
       " 'wyckoff_letters': ['a', 'a', 'b', 'b', 'd', 'd', 'd', 'd', 'd', 'd'],\n",
       " 'coords': [[0.25, 0.25, 0.25],\n",
       "  [0.75, 0.75, 0.75],\n",
       "  [0.0, 0.0, 0.0],\n",
       "  [0.5, 0.5, 0.5],\n",
       "  [0.5, 0.0, 0.0],\n",
       "  [0.0, 0.5, 0.0],\n",
       "  [0.0, 0.0, 0.5],\n",
       "  [0.5, 0.0, 0.5],\n",
       "  [0.0, 0.5, 0.5],\n",
       "  [0.5, 0.5, 0.0]]}"
      ]
     },
     "execution_count": 18,
     "metadata": {},
     "output_type": "execute_result"
    }
   ],
   "source": [
    "%%time\n",
    "\n",
    "cfg = cfgs[0]\n",
    "cfg\n",
    "\n",
    "raw_s = cg.gen_one(cfg)\n",
    "raw_s"
   ]
  },
  {
   "cell_type": "markdown",
   "metadata": {},
   "source": [
    "The result is a dict contains `species`, `lattice`, `coords` and other information. These information can be used to build `pymatgen.Structure` or `ase.Structure` object like following."
   ]
  },
  {
   "cell_type": "code",
   "execution_count": 19,
   "metadata": {},
   "outputs": [
    {
     "data": {
      "text/plain": [
       "Atoms(symbols='C2Ca2O6', pbc=True, cell=[[4.630626284667379, 0.0, 1.5123229929364803], [1.0970218133201437, 4.4988046111553, 1.5123229929364803], [0.0, 0.0, 4.871326372069189]])"
      ]
     },
     "execution_count": 19,
     "metadata": {},
     "output_type": "execute_result"
    }
   ],
   "source": [
    "# ASE Atoms\n",
    "\n",
    "from ase import Atoms\n",
    "\n",
    "atoms = Atoms(\n",
    "    symbols=raw_s[\"species\"],\n",
    "    cell=raw_s[\"lattice\"],\n",
    "    scaled_positions=raw_s[\"coords\"],\n",
    "    pbc=True,\n",
    ")\n",
    "atoms"
   ]
  },
  {
   "cell_type": "code",
   "execution_count": 20,
   "metadata": {},
   "outputs": [
    {
     "data": {
      "text/plain": [
       "Structure Summary\n",
       "Lattice\n",
       "    abc : 4.871326372069189 4.871326372069189 4.871326372069189\n",
       " angles : 71.91340432634925 71.91340432634925 71.91340432634925\n",
       " volume : 101.48084899348501\n",
       "      A : np.float64(4.630626284667379) np.float64(0.0) np.float64(1.5123229929364803)\n",
       "      B : np.float64(1.0970218133201437) np.float64(4.4988046111553) np.float64(1.5123229929364803)\n",
       "      C : np.float64(0.0) np.float64(0.0) np.float64(4.871326372069189)\n",
       "    pbc : True True True\n",
       "PeriodicSite: C (1.432, 1.125, 1.974) [0.25, 0.25, 0.25]\n",
       "PeriodicSite: C (4.296, 3.374, 5.922) [0.75, 0.75, 0.75]\n",
       "PeriodicSite: Ca (0.0, 0.0, 0.0) [0.0, 0.0, 0.0]\n",
       "PeriodicSite: Ca (2.864, 2.249, 3.948) [0.5, 0.5, 0.5]\n",
       "PeriodicSite: O (2.315, 0.0, 0.7562) [0.5, 0.0, 0.0]\n",
       "PeriodicSite: O (0.5485, 2.249, 0.7562) [0.0, 0.5, 0.0]\n",
       "PeriodicSite: O (0.0, 0.0, 2.436) [0.0, 0.0, 0.5]\n",
       "PeriodicSite: O (2.315, 0.0, 3.192) [0.5, 0.0, 0.5]\n",
       "PeriodicSite: O (0.5485, 2.249, 3.192) [0.0, 0.5, 0.5]\n",
       "PeriodicSite: O (2.864, 2.249, 1.512) [0.5, 0.5, 0.0]"
      ]
     },
     "execution_count": 20,
     "metadata": {},
     "output_type": "execute_result"
    }
   ],
   "source": [
    "from pymatgen.core import Structure\n",
    "\n",
    "structure = Structure(\n",
    "    lattice=raw_s[\"lattice\"],\n",
    "    species=raw_s[\"species\"],\n",
    "    coords=raw_s[\"coords\"],\n",
    ")\n",
    "structure"
   ]
  },
  {
   "cell_type": "markdown",
   "metadata": {},
   "source": [
    "We also offer a convenient function that converts raw structural data into a `pymatgen.core.Structure` object, enriched with additional details like space group information."
   ]
  },
  {
   "cell_type": "code",
   "execution_count": 21,
   "metadata": {},
   "outputs": [
    {
     "name": "stdout",
     "output_type": "stream",
     "text": [
      "\u001b[0;31mSignature:\u001b[0m\n",
      "\u001b[0mstructure_reconstructor\u001b[0m\u001b[0;34m(\u001b[0m\u001b[0;34m\u001b[0m\n",
      "\u001b[0;34m\u001b[0m    \u001b[0mstructure_list\u001b[0m\u001b[0;34m,\u001b[0m\u001b[0;34m\u001b[0m\n",
      "\u001b[0;34m\u001b[0m    \u001b[0;34m*\u001b[0m\u001b[0;34m,\u001b[0m\u001b[0;34m\u001b[0m\n",
      "\u001b[0;34m\u001b[0m    \u001b[0mreturn_primitive\u001b[0m\u001b[0;34m=\u001b[0m\u001b[0;32mTrue\u001b[0m\u001b[0;34m,\u001b[0m\u001b[0;34m\u001b[0m\n",
      "\u001b[0;34m\u001b[0m    \u001b[0mrelax_with_ase\u001b[0m\u001b[0;34m:\u001b[0m \u001b[0mase\u001b[0m\u001b[0;34m.\u001b[0m\u001b[0mcalculators\u001b[0m\u001b[0;34m.\u001b[0m\u001b[0mcalculator\u001b[0m\u001b[0;34m.\u001b[0m\u001b[0mCalculator\u001b[0m \u001b[0;34m=\u001b[0m \u001b[0;32mNone\u001b[0m\u001b[0;34m,\u001b[0m\u001b[0;34m\u001b[0m\n",
      "\u001b[0;34m\u001b[0m    \u001b[0mscaling_factor\u001b[0m\u001b[0;34m=\u001b[0m\u001b[0;36m3\u001b[0m\u001b[0;34m,\u001b[0m\u001b[0;34m\u001b[0m\n",
      "\u001b[0;34m\u001b[0m    \u001b[0mn_jobs\u001b[0m\u001b[0;34m=\u001b[0m\u001b[0;34m-\u001b[0m\u001b[0;36m1\u001b[0m\u001b[0;34m,\u001b[0m\u001b[0;34m\u001b[0m\n",
      "\u001b[0;34m\u001b[0m    \u001b[0mbackend\u001b[0m\u001b[0;34m=\u001b[0m\u001b[0;34m'loky'\u001b[0m\u001b[0;34m,\u001b[0m\u001b[0;34m\u001b[0m\n",
      "\u001b[0;34m\u001b[0m\u001b[0;34m)\u001b[0m\u001b[0;34m\u001b[0m\u001b[0;34m\u001b[0m\u001b[0m\n",
      "\u001b[0;31mDocstring:\u001b[0m\n",
      "Reconstructs a list of structures with optional relaxation using ASE and returns a DataFrame with structure information.\n",
      "\n",
      "Parameters:\n",
      "-----------\n",
      "structure_list : list\n",
      "    List of structures to be reconstructed. Each structure should be a dictionary containing 'lattice', 'species', and 'coords'.\n",
      "return_primitive : bool, optional\n",
      "    If True, returns the primitive standard structure. If False, returns the conventional standard structure. Default is True.\n",
      "relax_with_ase : Calculator, optional\n",
      "    ASE calculator for relaxing the structure. If None, no relaxation is performed. Default is None.\n",
      "scaling_factor : int, optional\n",
      "    Factor by which to scale the lattice volume before relaxation. Default is 3.\n",
      "n_jobs : int, optional\n",
      "    Number of jobs to run in parallel. Default is -1 (use all available processors).\n",
      "backend : str, optional\n",
      "    Backend to use for parallel processing. Default is \"loky\".\n",
      "\n",
      "Returns:\n",
      "--------\n",
      "pd.DataFrame\n",
      "    DataFrame containing reconstructed structure information, including volume, formula, composition, reduced formula, number of atoms, space group, species, structure dictionary, elapsed time (if relaxation is performed), minimum and maximum interatomic distances, Wyckoff letters, and ratio information.\n",
      "\n",
      "Notes:\n",
      "------\n",
      "- The function disables garbage collection during the reconstruction process to improve performance.\n",
      "- If relaxation is performed, the elapsed time for the relaxation is included in the output.\n",
      "- Any errors encountered during the reconstruction of a structure are captured and included in the output.\n",
      "\u001b[0;31mFile:\u001b[0m      ~/projects/crystallus/shotgun_csp/generator/wyckoff_base/utils.py\n",
      "\u001b[0;31mType:\u001b[0m      function"
     ]
    }
   ],
   "source": [
    "from shotgun_csp.generator.utils import structure_reconstructor\n",
    "\n",
    "structure_reconstructor?"
   ]
  },
  {
   "cell_type": "code",
   "execution_count": 23,
   "metadata": {},
   "outputs": [
    {
     "data": {
      "text/html": [
       "<div>\n",
       "<style scoped>\n",
       "    .dataframe tbody tr th:only-of-type {\n",
       "        vertical-align: middle;\n",
       "    }\n",
       "\n",
       "    .dataframe tbody tr th {\n",
       "        vertical-align: top;\n",
       "    }\n",
       "\n",
       "    .dataframe thead th {\n",
       "        text-align: right;\n",
       "    }\n",
       "</style>\n",
       "<table border=\"1\" class=\"dataframe\">\n",
       "  <thead>\n",
       "    <tr style=\"text-align: right;\">\n",
       "      <th></th>\n",
       "      <th>volume</th>\n",
       "      <th>formula</th>\n",
       "      <th>composition</th>\n",
       "      <th>reduced_formula</th>\n",
       "      <th>num_atoms</th>\n",
       "      <th>space_group</th>\n",
       "      <th>space_group_num</th>\n",
       "      <th>species</th>\n",
       "      <th>structure</th>\n",
       "      <th>min_max_dist</th>\n",
       "      <th>wy_letters</th>\n",
       "      <th>ratio</th>\n",
       "      <th>ratioSG</th>\n",
       "      <th>errors_msg</th>\n",
       "    </tr>\n",
       "  </thead>\n",
       "  <tbody>\n",
       "    <tr>\n",
       "      <th>0</th>\n",
       "      <td>50.740424</td>\n",
       "      <td>Ca2 C2 O6</td>\n",
       "      <td>{'C': 2.0, 'Ca': 2.0, 'O': 6.0}</td>\n",
       "      <td>CaCO3</td>\n",
       "      <td>10.0</td>\n",
       "      <td>R-3m</td>\n",
       "      <td>166</td>\n",
       "      <td>[C, C, Ca, Ca, O, O, O, O, O, O]</td>\n",
       "      <td>{'@module': 'pymatgen.core.structure', '@class...</td>\n",
       "      <td>(2.6855117661853427, 1.8784206150462888)</td>\n",
       "      <td>[a, a, b, b, d, d, d, d, d, d]</td>\n",
       "      <td>(2.0, 2.0, 6.0)</td>\n",
       "      <td>2.0_2.0_6.0-166</td>\n",
       "      <td>None</td>\n",
       "    </tr>\n",
       "  </tbody>\n",
       "</table>\n",
       "</div>"
      ],
      "text/plain": [
       "      volume    formula                      composition reduced_formula  \\\n",
       "0  50.740424  Ca2 C2 O6  {'C': 2.0, 'Ca': 2.0, 'O': 6.0}           CaCO3   \n",
       "\n",
       "   num_atoms space_group  space_group_num                           species  \\\n",
       "0       10.0        R-3m              166  [C, C, Ca, Ca, O, O, O, O, O, O]   \n",
       "\n",
       "                                           structure  \\\n",
       "0  {'@module': 'pymatgen.core.structure', '@class...   \n",
       "\n",
       "                               min_max_dist                      wy_letters  \\\n",
       "0  (2.6855117661853427, 1.8784206150462888)  [a, a, b, b, d, d, d, d, d, d]   \n",
       "\n",
       "             ratio          ratioSG errors_msg  \n",
       "0  (2.0, 2.0, 6.0)  2.0_2.0_6.0-166       None  "
      ]
     },
     "execution_count": 23,
     "metadata": {},
     "output_type": "execute_result"
    }
   ],
   "source": [
    "structure_reconstructor([raw_s], n_jobs=1)"
   ]
  },
  {
   "cell_type": "markdown",
   "metadata": {},
   "source": [
    "The following is batched generation."
   ]
  },
  {
   "cell_type": "code",
   "execution_count": 24,
   "metadata": {
    "tags": []
   },
   "outputs": [
    {
     "name": "stdout",
     "output_type": "stream",
     "text": [
      "raw_ss[0]: \n",
      "{'spacegroup_num': 167, 'volume': 153.232425242463, 'lattice': [[5.340705057646879, 0.0, 1.0614067912581733], [0.8712221057652152, 5.269165261709009, 1.0614067912581733], [0.0, 0.0, 5.445155175870006]], 'species': ['C', 'C', 'Ca', 'Ca', 'O', 'O', 'O', 'O', 'O', 'O'], 'wyckoff_letters': ['a', 'a', 'b', 'b', 'd', 'd', 'd', 'd', 'd', 'd'], 'coords': [[0.25, 0.25, 0.25], [0.75, 0.75, 0.75], [0.0, 0.0, 0.0], [0.5, 0.5, 0.5], [0.5, 0.0, 0.0], [0.0, 0.5, 0.0], [0.0, 0.0, 0.5], [0.5, 0.0, 0.5], [0.0, 0.5, 0.5], [0.5, 0.5, 0.0]]},\n",
      "size: 95\n",
      "CPU times: user 454 ms, sys: 47.9 ms, total: 502 ms\n",
      "Wall time: 16.6 ms\n"
     ]
    }
   ],
   "source": [
    "%%time\n",
    "\n",
    "raw_ss = cg.gen_many(100, *cfgs)\n",
    "\n",
    "print(f\"raw_ss[0]: \\n{raw_ss[0]},\\nsize: {len(raw_ss)}\")"
   ]
  },
  {
   "cell_type": "markdown",
   "metadata": {},
   "source": [
    "Also, the iterative version"
   ]
  },
  {
   "cell_type": "code",
   "execution_count": 25,
   "metadata": {
    "tags": []
   },
   "outputs": [
    {
     "data": {
      "application/vnd.jupyter.widget-view+json": {
       "model_id": "59994677f02e449cae6eb2ce5a2a6da2",
       "version_major": 2,
       "version_minor": 0
      },
      "text/plain": [
       "  0%|          | 0/2 [00:00<?, ?it/s]"
      ]
     },
     "metadata": {},
     "output_type": "display_data"
    },
    {
     "name": "stdout",
     "output_type": "stream",
     "text": [
      "configuration: {'C': ['a'], 'Ca': ['b'], 'O': ['d']}, size of structures: 382\n",
      "configuration: {'C': ['b'], 'Ca': ['a'], 'O': ['d']}, size of structures: 66\n",
      "CPU times: user 1.29 s, sys: 11.8 ms, total: 1.3 s\n",
      "Wall time: 57.7 ms\n"
     ]
    }
   ],
   "source": [
    "%%time\n",
    "\n",
    "with tqdm(total=len(cfgs)) as pbar:\n",
    "    for cfg, structures in cg.gen_many_iter(500, *cfgs):\n",
    "        print(f\"configuration: {cfg}, size of structures: {len(structures)}\")\n",
    "        pbar.update()"
   ]
  }
 ],
 "metadata": {
  "kernelspec": {
   "display_name": ".venv",
   "language": "python",
   "name": "python3"
  },
  "language_info": {
   "codemirror_mode": {
    "name": "ipython",
    "version": 3
   },
   "file_extension": ".py",
   "mimetype": "text/x-python",
   "name": "python",
   "nbconvert_exporter": "python",
   "pygments_lexer": "ipython3",
   "version": "3.10.15"
  }
 },
 "nbformat": 4,
 "nbformat_minor": 4
}
