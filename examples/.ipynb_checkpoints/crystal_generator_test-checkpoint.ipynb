{
 "cells": [
  {
   "cell_type": "code",
   "execution_count": 1,
   "metadata": {},
   "outputs": [],
   "source": [
    "from pymatgen import Structure\n",
    "\n",
    "# user-friendly print\n",
    "from IPython.core.interactiveshell import InteractiveShell\n",
    "InteractiveShell.ast_node_interactivity = \"all\""
   ]
  },
  {
   "cell_type": "markdown",
   "metadata": {},
   "source": [
    "## Crystal structure generation\n",
    "\n",
    "To generate legal structure under a given space group with specific chemical composition, basicly the following four steps are needed.\n",
    "\n",
    "1. calculate possible Wyckoff configurations under a given space group for each chemical composition.\n",
    "2. generate fraction positions for each element with given a Wyckoff configuration which is calculated from step 1), randomly.\n",
    "3. generate lattice for the given space group which is used in step 1), randomly.\n",
    "4. combine the results from step 2) and 3) to obtain a legal structure.\n",
    "\n",
    "Usually, we also have to check the `volume` and `atomic distances` of generated structure, only keep the structures which have reasonable `volume` and `atomic distances`.\n",
    "\n",
    "To facilitate these jobs, our `crystallus` library provides four modules:\n",
    "\n",
    "* `WyckoffCfgGenerator`: generate possible Wyckoff configurations for the given space group and composition of primitive cell.\n",
    "* `CrystalGenerator`: generate crystal structures for the given space group and Wyckoff configurations.\n",
    "* `WyckoffDB, SpaceGroupDB`: database include space group and corresponding Wyckoff information.\n",
    "\n",
    "We will show how to use `crystallus` to generate legal structures."
   ]
  },
  {
   "cell_type": "markdown",
   "metadata": {},
   "source": [
    "### 1. generate Wyckoff configurations\n",
    "\n",
    "As an example, we will try to generate structures for `Ca2C2O6`. The true space group of this structure is `167`, and the Wyckoff configuration is `{Ca: 2b, C: 2a, O: 6e}`.\n",
    "You can use `SpaceGroupDB` to get the information of Wyckoff position about space group `167`."
   ]
  },
  {
   "cell_type": "code",
   "execution_count": 2,
   "metadata": {},
   "outputs": [
    {
     "data": {
      "text/plain": [
       "[{'Wyckoff letter': 'f',\n",
       "  'multiplicity': 12,\n",
       "  'reusable': True,\n",
       "  'Wyckoff position': '(x,y,z), (z,x,y), (y,z,x), (-y+1/2,-x+1/2,-z+1/2), (-x+1/2,-z+1/2,-y+1/2), (-z+1/2,-y+1/2,-x+1/2), (-x,-y,-z), (-z,-x,-y), (-y,-z,-x), (y+1/2,x+1/2,z+1/2), (x+1/2,z+1/2,y+1/2), (z+1/2,y+1/2,x+1/2)'},\n",
       " {'Wyckoff letter': 'e',\n",
       "  'multiplicity': 6,\n",
       "  'reusable': True,\n",
       "  'Wyckoff position': '(x,-x+1/2,1/4), (1/4,x,-x+1/2), (-x+1/2,1/4,x), (-x,x+1/2,3/4), (3/4,-x,x+1/2), (x+1/2,3/4,-x)'},\n",
       " {'Wyckoff letter': 'd',\n",
       "  'multiplicity': 6,\n",
       "  'reusable': False,\n",
       "  'Wyckoff position': '(1/2,0,0), (0,1/2,0), (0,0,1/2), (1/2,0,1/2), (0,1/2,1/2), (1/2,1/2,0)'},\n",
       " {'Wyckoff letter': 'c',\n",
       "  'multiplicity': 4,\n",
       "  'reusable': True,\n",
       "  'Wyckoff position': '(x,x,x), (-x+1/2,-x+1/2,-x+1/2), (-x,-x,-x), (x+1/2,x+1/2,x+1/2)'},\n",
       " {'Wyckoff letter': 'b',\n",
       "  'multiplicity': 2,\n",
       "  'reusable': False,\n",
       "  'Wyckoff position': '(0,0,0), (1/2,1/2,1/2)'},\n",
       " {'Wyckoff letter': 'a',\n",
       "  'multiplicity': 2,\n",
       "  'reusable': False,\n",
       "  'Wyckoff position': '(1/4,1/4,1/4), (3/4,3/4,3/4)'}]"
      ]
     },
     "execution_count": 2,
     "metadata": {},
     "output_type": "execute_result"
    }
   ],
   "source": [
    "from crystallus import SpaceGroupDB\n",
    "\n",
    "wys = SpaceGroupDB.get(spacegroup_num=167).wyckoffs\n",
    "[{'Wyckoff letter': w.letter, 'multiplicity': w.multiplicity, 'reusable': w.reuse, 'Wyckoff position': w.positions} for w in wys ]"
   ]
  },
  {
   "cell_type": "markdown",
   "metadata": {},
   "source": [
    "Let's generate some possible Wyckoff configurations for the composition `Ca2C2O6` under space group `167`."
   ]
  },
  {
   "cell_type": "code",
   "execution_count": 3,
   "metadata": {},
   "outputs": [
    {
     "data": {
      "text/plain": [
       "\u001b[0;31mInit signature:\u001b[0m \u001b[0mWyckoffCfgGenerator\u001b[0m\u001b[0;34m(\u001b[0m\u001b[0;34m*\u001b[0m\u001b[0;34m,\u001b[0m \u001b[0mmax_recurrent\u001b[0m\u001b[0;34m=\u001b[0m\u001b[0;36m1000\u001b[0m\u001b[0;34m,\u001b[0m \u001b[0mn_jobs\u001b[0m\u001b[0;34m=\u001b[0m\u001b[0;34m-\u001b[0m\u001b[0;36m1\u001b[0m\u001b[0;34m,\u001b[0m \u001b[0;34m**\u001b[0m\u001b[0mcomposition\u001b[0m\u001b[0;34m)\u001b[0m\u001b[0;34m\u001b[0m\u001b[0;34m\u001b[0m\u001b[0m\n",
       "\u001b[0;31mDocstring:\u001b[0m      <no docstring>\n",
       "\u001b[0;31mInit docstring:\u001b[0m\n",
       "A generator for possible Wyckoff configuration generation.\n",
       "\n",
       "Parameters\n",
       "----------\n",
       "max_recurrent : int, optional\n",
       "    Max recurrent until generate a reasonable structure, by default 5_000\n",
       "n_jobs : int, optional\n",
       "    Number of cpu cores when parallel calculation, by default -1\n",
       "composition: Dict\n",
       "    Composition of compounds in the primitive cell; should be formated\n",
       "    as {<element symbol>: <ratio in float>}.\n",
       "\u001b[0;31mFile:\u001b[0m           /usr/local/miniconda3/envs/crystallus/lib/python3.7/site-packages/crystallus/wyckoff_cfg_generator.py\n",
       "\u001b[0;31mType:\u001b[0m           type\n",
       "\u001b[0;31mSubclasses:\u001b[0m     \n"
      ]
     },
     "metadata": {},
     "output_type": "display_data"
    }
   ],
   "source": [
    "from crystallus import WyckoffCfgGenerator\n",
    "\n",
    "WyckoffCfgGenerator?"
   ]
  },
  {
   "cell_type": "code",
   "execution_count": 4,
   "metadata": {},
   "outputs": [
    {
     "data": {
      "text/plain": [
       "WyckoffCfgGenerator(            \n",
       "    max_recurrent=1000,            \n",
       "    n_jobs=-1            \n",
       "    composition={'Ca': 2, 'C': 2, 'O': 6}            \n",
       ")"
      ]
     },
     "execution_count": 4,
     "metadata": {},
     "output_type": "execute_result"
    }
   ],
   "source": [
    "composition = {'Ca': 2, 'C': 2, 'O': 6}\n",
    "\n",
    "wyg = WyckoffCfgGenerator(**composition)\n",
    "wyg"
   ]
  },
  {
   "cell_type": "markdown",
   "metadata": {},
   "source": [
    "You have noticed that the minimum input for the initialization of a `WyckoffCfgGenerator` is just a composition.\n",
    "Now, we can try to use this generator to generate Wyckoff configuration(s). First, let's try to generate one. This can be done by the `gen_one` method."
   ]
  },
  {
   "cell_type": "code",
   "execution_count": 5,
   "metadata": {},
   "outputs": [
    {
     "data": {
      "text/plain": [
       "\u001b[0;31mSignature:\u001b[0m \u001b[0mwyg\u001b[0m\u001b[0;34m.\u001b[0m\u001b[0mgen_one\u001b[0m\u001b[0;34m(\u001b[0m\u001b[0mspacegroup_num\u001b[0m\u001b[0;34m:\u001b[0m \u001b[0mint\u001b[0m\u001b[0;34m)\u001b[0m\u001b[0;34m\u001b[0m\u001b[0;34m\u001b[0m\u001b[0m\n",
       "\u001b[0;31mDocstring:\u001b[0m\n",
       "Try to generate a possible Wyckoff configuration under the given space group.\n",
       "\n",
       "Parameters\n",
       "----------\n",
       "spacegroup_num : int\n",
       "    Space group number.\n",
       "\n",
       "Returns\n",
       "-------\n",
       "Dict\n",
       "    Wyckoff configuration set, which is a dict with format like:\n",
       "    {\"Li\": [\"a\", \"c\"], \"O\": [\"i\"]}. Here, the \"Li\" is an available element\n",
       "    symbol and [\"a\", \"c\"] is a list which contains coresponding Wyckoff\n",
       "    letters. For convenience, dict will be sorted by keys.\n",
       "\u001b[0;31mFile:\u001b[0m      /usr/local/miniconda3/envs/crystallus/lib/python3.7/site-packages/crystallus/wyckoff_cfg_generator.py\n",
       "\u001b[0;31mType:\u001b[0m      method\n"
      ]
     },
     "metadata": {},
     "output_type": "display_data"
    }
   ],
   "source": [
    "wyg.gen_one?"
   ]
  },
  {
   "cell_type": "code",
   "execution_count": 6,
   "metadata": {},
   "outputs": [
    {
     "data": {
      "text/plain": [
       "{'C': ['a'], 'Ca': ['b'], 'O': ['d']}"
      ]
     },
     "execution_count": 6,
     "metadata": {},
     "output_type": "execute_result"
    }
   ],
   "source": [
    "cfg = wyg.gen_one(spacegroup_num=167)\n",
    "cfg"
   ]
  },
  {
   "cell_type": "markdown",
   "metadata": {},
   "source": [
    "If everything goes well, the above cell will return you a dict with something like: `{'C': ['b'], 'Ca': ['a'], 'O': ['d']}`.\n",
    "Here, `C`, `Ca`, and `O` are the element names that had been sorted by the alphabet. `['b']`, `['a']`, and `['d']` are the corresponding Wyckoff positions which are provided by Wyckoff letters.\n",
    "\n",
    "Maybe you are confused that the return of this cell is not unique. That makes sense because all the possible configurations for composition `Ca2C2O6` under space group `167` are four. This means if you run this cell many times, you will get all these configurations. Because in almost all the cases, the possible configurations are not one, so instead of using `gen_one`, you should use `gen_many`."
   ]
  },
  {
   "cell_type": "code",
   "execution_count": 7,
   "metadata": {},
   "outputs": [
    {
     "data": {
      "text/plain": [
       "\u001b[0;31mSignature:\u001b[0m \u001b[0mwyg\u001b[0m\u001b[0;34m.\u001b[0m\u001b[0mgen_many\u001b[0m\u001b[0;34m(\u001b[0m\u001b[0msize\u001b[0m\u001b[0;34m:\u001b[0m \u001b[0mint\u001b[0m\u001b[0;34m,\u001b[0m \u001b[0;34m*\u001b[0m\u001b[0mspacegroup_num\u001b[0m\u001b[0;34m:\u001b[0m \u001b[0mint\u001b[0m\u001b[0;34m)\u001b[0m\u001b[0;34m\u001b[0m\u001b[0;34m\u001b[0m\u001b[0m\n",
       "\u001b[0;31mDocstring:\u001b[0m\n",
       "Try to generate possible Wyckoff configuration sets.\n",
       "\n",
       "Parameters\n",
       "----------\n",
       "size : int\n",
       "    How many times to try for one space group.\n",
       "spacegroup_num: int\n",
       "    The spacegroup numbers.\n",
       "\n",
       "Returns\n",
       "-------\n",
       "Dict[int, List[Dict]], List[Dict]\n",
       "    A collection contains spacegroup number and it's corresponding Wyckoff\n",
       "    configurations (wy_cfg). If only one spacegroup number was given,\n",
       "    will only return the list of wy_cfgs, otherwise return in dict with\n",
       "    spacegroup number as key. wy_cfgs will be formated as\n",
       "    {element 1: [Wyckoff_letter, Wyckoff_letter, ...], element 2: [...], ...}.\n",
       "\u001b[0;31mFile:\u001b[0m      /usr/local/miniconda3/envs/crystallus/lib/python3.7/site-packages/crystallus/wyckoff_cfg_generator.py\n",
       "\u001b[0;31mType:\u001b[0m      method\n"
      ]
     },
     "metadata": {},
     "output_type": "display_data"
    }
   ],
   "source": [
    "wyg.gen_many?"
   ]
  },
  {
   "cell_type": "code",
   "execution_count": 8,
   "metadata": {},
   "outputs": [
    {
     "data": {
      "text/plain": [
       "[{'C': ['a'], 'Ca': ['b'], 'O': ['d']},\n",
       " {'C': ['b'], 'Ca': ['a'], 'O': ['e']},\n",
       " {'C': ['b'], 'Ca': ['a'], 'O': ['d']},\n",
       " {'C': ['a'], 'Ca': ['b'], 'O': ['e']}]"
      ]
     },
     "execution_count": 8,
     "metadata": {},
     "output_type": "execute_result"
    }
   ],
   "source": [
    "cfgs = wyg.gen_many(100, 167)\n",
    "cfgs"
   ]
  },
  {
   "cell_type": "markdown",
   "metadata": {},
   "source": [
    "You can calculate more than one space group in one call. Just list space group numbers as `*` parameters. In this case, the return will be a dict with space group number as key and configuration list as value. For example, if our space group candidate are `[194, 148, 167]`, you can call `gen_many` like this:"
   ]
  },
  {
   "cell_type": "code",
   "execution_count": 9,
   "metadata": {},
   "outputs": [
    {
     "name": "stdout",
     "output_type": "stream",
     "text": [
      "CPU times: user 7.56 ms, sys: 3.85 ms, total: 11.4 ms\n",
      "Wall time: 2.4 ms\n"
     ]
    },
    {
     "data": {
      "text/plain": [
       "{194: [{'C': ['a'], 'Ca': ['d'], 'O': ['c', 'f']},\n",
       "  {'C': ['a'], 'Ca': ['c'], 'O': ['b', 'e']},\n",
       "  {'C': ['a'], 'Ca': ['d'], 'O': ['g']},\n",
       "  {'C': ['d'], 'Ca': ['b'], 'O': ['a', 'e']},\n",
       "  {'C': ['b'], 'Ca': ['d'], 'O': ['e', 'c']},\n",
       "  {'C': ['c'], 'Ca': ['b'], 'O': ['d', 'f']},\n",
       "  {'C': ['d'], 'Ca': ['c'], 'O': ['b', 'e']},\n",
       "  {'C': ['b'], 'Ca': ['d'], 'O': ['f', 'a']},\n",
       "  {'C': ['d'], 'Ca': ['a'], 'O': ['f', 'c']},\n",
       "  {'C': ['d'], 'Ca': ['b'], 'O': ['g']},\n",
       "  {'C': ['b'], 'Ca': ['c'], 'O': ['f', 'a']},\n",
       "  {'C': ['b'], 'Ca': ['c'], 'O': ['g']},\n",
       "  {'C': ['a'], 'Ca': ['d'], 'O': ['h']},\n",
       "  {'C': ['b'], 'Ca': ['a'], 'O': ['g']},\n",
       "  {'C': ['c'], 'Ca': ['b'], 'O': ['g']},\n",
       "  {'C': ['c'], 'Ca': ['b'], 'O': ['d', 'e']},\n",
       "  {'C': ['c'], 'Ca': ['a'], 'O': ['h']},\n",
       "  {'C': ['b'], 'Ca': ['c'], 'O': ['d', 'e']}],\n",
       " 148: [{'C': ['c'], 'Ca': ['c'], 'O': ['f']},\n",
       "  {'C': ['a', 'b'], 'Ca': ['c'], 'O': ['f']},\n",
       "  {'C': ['a', 'b'], 'Ca': ['c'], 'O': ['d', 'e']},\n",
       "  {'C': ['b', 'a'], 'Ca': ['c'], 'O': ['e', 'd']},\n",
       "  {'C': ['c'], 'Ca': ['a', 'b'], 'O': ['c', 'c', 'c']},\n",
       "  {'C': ['c'], 'Ca': ['b', 'a'], 'O': ['d', 'e']}],\n",
       " 167: [{'C': ['b'], 'Ca': ['a'], 'O': ['e']},\n",
       "  {'C': ['b'], 'Ca': ['a'], 'O': ['d']},\n",
       "  {'C': ['a'], 'Ca': ['b'], 'O': ['d']},\n",
       "  {'C': ['a'], 'Ca': ['b'], 'O': ['e']}]}"
      ]
     },
     "execution_count": 9,
     "metadata": {},
     "output_type": "execute_result"
    }
   ],
   "source": [
    "%%time\n",
    "\n",
    "cfgs = wyg.gen_many(20, 194, 148, 167)\n",
    "cfgs"
   ]
  },
  {
   "cell_type": "markdown",
   "metadata": {},
   "source": [
    "An iterative version of `gen_many` name `gen_many_iter` is also provided. You can use this method to render a progress bar during generation."
   ]
  },
  {
   "cell_type": "code",
   "execution_count": 17,
   "metadata": {},
   "outputs": [
    {
     "data": {
      "application/vnd.jupyter.widget-view+json": {
       "model_id": "faba58b2369344adb7fbfc734f89e57a",
       "version_major": 2,
       "version_minor": 0
      },
      "text/plain": [
       "HBox(children=(FloatProgress(value=0.0, max=9.0), HTML(value='')))"
      ]
     },
     "metadata": {},
     "output_type": "display_data"
    },
    {
     "name": "stdout",
     "output_type": "stream",
     "text": [
      "space group: 194, size of generated samples: 120\n",
      "space group: 148, size of generated samples: 56\n",
      "space group: 167, size of generated samples: 4\n",
      "space group: 161, size of generated samples: 2\n",
      "space group: 11, size of generated samples: 630\n",
      "space group: 12, size of generated samples: 4365\n",
      "space group: 65, size of generated samples: 4789\n",
      "space group: 140, size of generated samples: 192\n",
      "space group: 225, size of generated samples: 8\n",
      "\n",
      "CPU times: user 22.5 s, sys: 117 ms, total: 22.7 s\n",
      "Wall time: 3.28 s\n"
     ]
    }
   ],
   "source": [
    "%%time\n",
    "\n",
    "from tqdm.notebook import tqdm\n",
    "\n",
    "space_group_cans = [194, 148, 167, 161, 11, 12, 65, 140, 225]\n",
    "\n",
    "with tqdm(total=len(space_group_cans)) as pbar:\n",
    "    for spacegroup_num, cfg_list in wyg.gen_many_iter(5000, *space_group_cans):\n",
    "        print(f'space group: {spacegroup_num}, size of generated samples: {len(cfg_list)}')\n",
    "        pbar.update()"
   ]
  },
  {
   "cell_type": "markdown",
   "metadata": {},
   "source": [
    "### 2. generate crystal structures"
   ]
  },
  {
   "cell_type": "code",
   "execution_count": null,
   "metadata": {},
   "outputs": [],
   "source": [
    "from crystallus import CrystalGenerator"
   ]
  },
  {
   "cell_type": "code",
   "execution_count": null,
   "metadata": {},
   "outputs": [],
   "source": [
    "composition = 'Ti4O8'\n",
    "estimated_volume = 146.706\n",
    "estimated_variance = 20\n",
    "sp_num = 12"
   ]
  },
  {
   "cell_type": "code",
   "execution_count": null,
   "metadata": {},
   "outputs": [],
   "source": [
    "cg = CrystalGenerator(sp_num, estimated_volume, estimated_variance)\n",
    "cg"
   ]
  },
  {
   "cell_type": "code",
   "execution_count": null,
   "metadata": {},
   "outputs": [],
   "source": [
    "len(cfgs[sp_num])"
   ]
  },
  {
   "cell_type": "code",
   "execution_count": null,
   "metadata": {},
   "outputs": [],
   "source": [
    "%%time\n",
    "\n",
    "ret = cg.gen_many(10, *cfgs[sp_num])"
   ]
  },
  {
   "cell_type": "code",
   "execution_count": null,
   "metadata": {},
   "outputs": [],
   "source": [
    "%%time\n",
    "\n",
    "len(ret)\n",
    "joblib.dump(ret, f\"{composition}_space_group_{sp_num}.pkl.z\")"
   ]
  },
  {
   "cell_type": "code",
   "execution_count": null,
   "metadata": {},
   "outputs": [],
   "source": [
    "for i, tmp in enumerate(ret):\n",
    "    s = Structure(lattice=tmp['lattice'], species=tmp['species'], coords=np.asarray(tmp['coords']).reshape(-1, 3))\n",
    "    s.to(fmt='cif', filename=f'generated_cifs/{i}.cif', symprec=0.01)"
   ]
  },
  {
   "cell_type": "markdown",
   "metadata": {},
   "source": [
    "---------"
   ]
  },
  {
   "cell_type": "code",
   "execution_count": null,
   "metadata": {},
   "outputs": [],
   "source": [
    "structure_table = pd.read_pickle('Ti4O8_structure_table_old.pd.xz')\n",
    "structure_table"
   ]
  },
  {
   "cell_type": "code",
   "execution_count": null,
   "metadata": {},
   "outputs": [],
   "source": [
    "tmp = structure_table.groupby('spacegroup_num')['wy_letters'].value_counts()"
   ]
  },
  {
   "cell_type": "code",
   "execution_count": null,
   "metadata": {},
   "outputs": [],
   "source": [
    "from matplotlib import pyplot as plt\n",
    "\n",
    "f, (ax1, ax2) = plt.subplots(1, 2, figsize=(12, 8),dpi=100)\n",
    "structure_table.shape\n",
    "ax = structure_table.groupby('spacegroup_num').count().sort_values('formula', ascending=False).plot.bar(y=['structure'], ax=ax1)\n",
    "ax.text(25,190000,'Ca2C2O6\\nsize: 624899', fontsize=15, ha='right')\n",
    "\n",
    "ax = structure_table.volume.hist(ax=ax2)\n",
    "ax.xaxis.grid(False)\n",
    "ax.grid(linestyle='--', linewidth=1, axis='y')\n",
    "ax.set_xlabel('volume')\n",
    "\n",
    "plt.tight_layout()"
   ]
  }
 ],
 "metadata": {
  "kernelspec": {
   "display_name": "Python 3",
   "language": "python",
   "name": "python3"
  },
  "language_info": {
   "codemirror_mode": {
    "name": "ipython",
    "version": 3
   },
   "file_extension": ".py",
   "mimetype": "text/x-python",
   "name": "python",
   "nbconvert_exporter": "python",
   "pygments_lexer": "ipython3",
   "version": "3.7.6"
  }
 },
 "nbformat": 4,
 "nbformat_minor": 4
}
