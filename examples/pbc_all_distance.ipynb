{
 "cells": [
  {
   "cell_type": "code",
   "execution_count": 2,
   "metadata": {},
   "outputs": [],
   "source": [
    "# user-friendly print\n",
    "from IPython.core.interactiveshell import InteractiveShell\n",
    "\n",
    "InteractiveShell.ast_node_interactivity = \"all\"\n",
    "\n",
    "import numpy as np\n",
    "from pymatgen.core import Structure\n",
    "\n",
    "from shotgun_csp.utils import pbc_all_distances"
   ]
  },
  {
   "cell_type": "code",
   "execution_count": 3,
   "metadata": {
    "tags": []
   },
   "outputs": [
    {
     "name": "stdout",
     "output_type": "stream",
     "text": [
      "\u001b[0;31mSignature:\u001b[0m \u001b[0mpbc_all_distances\u001b[0m\u001b[0;34m(\u001b[0m\u001b[0mlattice\u001b[0m\u001b[0;34m,\u001b[0m \u001b[0mfrac_coords\u001b[0m\u001b[0;34m)\u001b[0m\u001b[0;34m\u001b[0m\u001b[0;34m\u001b[0m\u001b[0m\n",
      "\u001b[0;31mDocstring:\u001b[0m <no docstring>\n",
      "\u001b[0;31mType:\u001b[0m      builtin_function_or_method"
     ]
    }
   ],
   "source": [
    "pbc_all_distances?"
   ]
  },
  {
   "cell_type": "markdown",
   "metadata": {},
   "source": [
    "`pbc_all_distance` is the function of calculating all distances between each site. The output is an upper triangular matrix.\n",
    "\n",
    "Let's use the `178_224.cif` as an example to compare our implementation with pymatgen."
   ]
  },
  {
   "cell_type": "code",
   "execution_count": 4,
   "metadata": {},
   "outputs": [
    {
     "data": {
      "text/plain": [
       "Structure Summary\n",
       "Lattice\n",
       "    abc : 9.73223249 9.73223249 9.73223249\n",
       " angles : 90.0 90.0 90.0\n",
       " volume : 921.8015314019882\n",
       "      A : np.float64(9.73223249) np.float64(0.0) np.float64(5.959273683718187e-16)\n",
       "      B : np.float64(1.5650623499087848e-15) np.float64(9.73223249) np.float64(5.959273683718187e-16)\n",
       "      C : np.float64(0.0) np.float64(0.0) np.float64(9.73223249)\n",
       "    pbc : True True True\n",
       "PeriodicSite: Y68 (Y) (4.866, 4.866, 4.866) [0.5, 0.5, 0.5]\n",
       "PeriodicSite: Y69 (Y) (0.0, 0.0, 4.866) [0.0, 0.0, 0.5]\n",
       "PeriodicSite: Y70 (Y) (7.825e-16, 4.866, 2.98e-16) [0.0, 0.5, 0.0]\n",
       "PeriodicSite: Y71 (Y) (4.866, 0.0, 2.98e-16) [0.5, 0.0, 0.0]\n",
       "PeriodicSite: Y72 (Y) (8.657, 8.657, 8.657) [0.8895, 0.8895, 0.8895]\n",
       "PeriodicSite: Y73 (Y) (5.941, 5.941, 8.657) [0.6105, 0.6105, 0.8895]\n",
       "PeriodicSite: Y74 (Y) (5.941, 8.657, 5.941) [0.6105, 0.8895, 0.6105]\n",
       "PeriodicSite: Y75 (Y) (8.657, 5.941, 5.941) [0.8895, 0.6105, 0.6105]\n",
       "PeriodicSite: Y76 (Y) (3.791, 3.791, 1.075) [0.3895, 0.3895, 0.1105]\n",
       "PeriodicSite: Y77 (Y) (1.075, 1.075, 1.075) [0.1105, 0.1105, 0.1105]\n",
       "PeriodicSite: Y78 (Y) (3.791, 1.075, 3.791) [0.3895, 0.1105, 0.3895]\n",
       "PeriodicSite: Y79 (Y) (1.075, 3.791, 3.791) [0.1105, 0.3895, 0.3895]\n",
       "PeriodicSite: Al0 (Al) (2.433, 2.433, 2.433) [0.25, 0.25, 0.25]\n",
       "PeriodicSite: Al1 (Al) (7.299, 7.299, 7.299) [0.75, 0.75, 0.75]\n",
       "PeriodicSite: Al2 (Al) (2.433, 7.299, 7.299) [0.25, 0.75, 0.75]\n",
       "PeriodicSite: Al3 (Al) (7.299, 2.433, 7.299) [0.75, 0.25, 0.75]\n",
       "PeriodicSite: Al4 (Al) (7.299, 7.299, 2.433) [0.75, 0.75, 0.25]\n",
       "PeriodicSite: Al5 (Al) (2.433, 7.299, 2.433) [0.25, 0.75, 0.25]\n",
       "PeriodicSite: Al6 (Al) (7.299, 2.433, 2.433) [0.75, 0.25, 0.25]\n",
       "PeriodicSite: Al7 (Al) (2.433, 2.433, 7.299) [0.25, 0.25, 0.75]\n",
       "PeriodicSite: Al8 (Al) (4.866, 2.433, 7.299) [0.5, 0.25, 0.75]\n",
       "PeriodicSite: Al9 (Al) (3.913e-16, 2.433, 7.299) [0.0, 0.25, 0.75]\n",
       "PeriodicSite: Al10 (Al) (7.299, 4.866, 2.433) [0.75, 0.5, 0.25]\n",
       "PeriodicSite: Al11 (Al) (7.299, 0.0, 2.433) [0.75, 0.0, 0.25]\n",
       "PeriodicSite: Al12 (Al) (2.433, 7.299, 4.866) [0.25, 0.75, 0.5]\n",
       "PeriodicSite: Al13 (Al) (2.433, 7.299, 5.959e-16) [0.25, 0.75, 0.0]\n",
       "PeriodicSite: Al14 (Al) (4.866, 7.299, 2.433) [0.5, 0.75, 0.25]\n",
       "PeriodicSite: Al15 (Al) (1.174e-15, 7.299, 2.433) [0.0, 0.75, 0.25]\n",
       "PeriodicSite: Al16 (Al) (2.433, 4.866, 7.299) [0.25, 0.5, 0.75]\n",
       "PeriodicSite: Al17 (Al) (2.433, 0.0, 7.299) [0.25, 0.0, 0.75]\n",
       "PeriodicSite: Al18 (Al) (7.299, 2.433, 4.866) [0.75, 0.25, 0.5]\n",
       "PeriodicSite: Al19 (Al) (7.299, 2.433, 5.959e-16) [0.75, 0.25, 0.0]\n",
       "PeriodicSite: O20 (O) (0.0, 0.0, 0.0) [0.0, 0.0, 0.0]\n",
       "PeriodicSite: O21 (O) (4.866, 4.866, 5.959e-16) [0.5, 0.5, 0.0]\n",
       "PeriodicSite: O22 (O) (4.866, 0.0, 4.866) [0.5, 0.0, 0.5]\n",
       "PeriodicSite: O23 (O) (7.825e-16, 4.866, 4.866) [0.0, 0.5, 0.5]\n",
       "PeriodicSite: O24 (O) (3.783, 3.783, 3.783) [0.3887, 0.3887, 0.3887]\n",
       "PeriodicSite: O25 (O) (1.084, 1.084, 3.783) [0.1113, 0.1113, 0.3887]\n",
       "PeriodicSite: O26 (O) (1.084, 3.783, 1.084) [0.1113, 0.3887, 0.1113]\n",
       "PeriodicSite: O27 (O) (3.783, 1.084, 1.084) [0.3887, 0.1113, 0.1113]\n",
       "PeriodicSite: O28 (O) (8.649, 8.649, 5.95) [0.8887, 0.8887, 0.6113]\n",
       "PeriodicSite: O29 (O) (5.95, 5.95, 5.95) [0.6113, 0.6113, 0.6113]\n",
       "PeriodicSite: O30 (O) (8.649, 5.95, 8.649) [0.8887, 0.6113, 0.8887]\n",
       "PeriodicSite: O31 (O) (5.95, 8.649, 8.649) [0.6113, 0.8887, 0.8887]\n",
       "PeriodicSite: O32 (O) (0.806, 2.433, 2.433) [0.08281, 0.25, 0.25]\n",
       "PeriodicSite: O33 (O) (4.06, 2.433, 2.433) [0.4172, 0.25, 0.25]\n",
       "PeriodicSite: O34 (O) (2.433, 0.806, 2.433) [0.25, 0.08281, 0.25]\n",
       "PeriodicSite: O35 (O) (2.433, 4.06, 2.433) [0.25, 0.4172, 0.25]\n",
       "PeriodicSite: O36 (O) (2.433, 2.433, 0.806) [0.25, 0.25, 0.08281]\n",
       "PeriodicSite: O37 (O) (2.433, 2.433, 4.06) [0.25, 0.25, 0.4172]\n",
       "PeriodicSite: O38 (O) (7.299, 5.672, 7.299) [0.75, 0.5828, 0.75]\n",
       "PeriodicSite: O39 (O) (7.299, 8.926, 7.299) [0.75, 0.9172, 0.75]\n",
       "PeriodicSite: O40 (O) (5.672, 7.299, 7.299) [0.5828, 0.75, 0.75]\n",
       "PeriodicSite: O41 (O) (8.926, 7.299, 7.299) [0.9172, 0.75, 0.75]\n",
       "PeriodicSite: O42 (O) (7.299, 7.299, 8.926) [0.75, 0.75, 0.9172]\n",
       "PeriodicSite: O43 (O) (7.299, 7.299, 5.672) [0.75, 0.75, 0.5828]\n",
       "PeriodicSite: O44 (O) (4.866, 0.4272, 5.293) [0.5, 0.0439, 0.5439]\n",
       "PeriodicSite: O45 (O) (7.138e-16, 4.439, 5.293) [0.0, 0.4561, 0.5439]\n",
       "PeriodicSite: O46 (O) (6.871e-17, 0.4272, 9.305) [0.0, 0.0439, 0.9561]\n",
       "PeriodicSite: O47 (O) (4.866, 4.439, 9.305) [0.5, 0.4561, 0.9561]\n",
       "PeriodicSite: O48 (O) (5.293, 4.866, 0.4272) [0.5439, 0.5, 0.0439]\n",
       "PeriodicSite: O49 (O) (5.293, 0.0, 4.439) [0.5439, 0.0, 0.4561]\n",
       "PeriodicSite: O50 (O) (9.305, 0.0, 0.4272) [0.9561, 0.0, 0.0439]\n",
       "PeriodicSite: O51 (O) (9.305, 4.866, 4.439) [0.9561, 0.5, 0.4561]\n",
       "PeriodicSite: O52 (O) (0.4272, 5.293, 4.866) [0.0439, 0.5439, 0.5]\n",
       "PeriodicSite: O53 (O) (4.439, 5.293, 5.959e-16) [0.4561, 0.5439, 0.0]\n",
       "PeriodicSite: O54 (O) (0.4272, 9.305, 5.959e-16) [0.0439, 0.9561, 0.0]\n",
       "PeriodicSite: O55 (O) (4.439, 9.305, 4.866) [0.4561, 0.9561, 0.5]\n",
       "PeriodicSite: O56 (O) (4.866, 9.305, 4.439) [0.5, 0.9561, 0.4561]\n",
       "PeriodicSite: O57 (O) (8.512e-16, 5.293, 4.439) [0.0, 0.5439, 0.4561]\n",
       "PeriodicSite: O58 (O) (1.496e-15, 9.305, 0.4272) [0.0, 0.9561, 0.0439]\n",
       "PeriodicSite: O59 (O) (4.866, 5.293, 0.4272) [0.5, 0.5439, 0.0439]\n",
       "PeriodicSite: O60 (O) (4.439, 4.866, 9.305) [0.4561, 0.5, 0.9561]\n",
       "PeriodicSite: O61 (O) (4.439, 0.0, 5.293) [0.4561, 0.0, 0.5439]\n",
       "PeriodicSite: O62 (O) (0.4272, 0.0, 9.305) [0.0439, 0.0, 0.9561]\n",
       "PeriodicSite: O63 (O) (0.4272, 4.866, 5.293) [0.0439, 0.5, 0.5439]\n",
       "PeriodicSite: O64 (O) (9.305, 4.439, 4.866) [0.9561, 0.4561, 0.5]\n",
       "PeriodicSite: O65 (O) (5.293, 4.439, 5.959e-16) [0.5439, 0.4561, 0.0]\n",
       "PeriodicSite: O66 (O) (9.305, 0.4272, 5.959e-16) [0.9561, 0.0439, 0.0]\n",
       "PeriodicSite: O67 (O) (5.293, 0.4272, 4.866) [0.5439, 0.0439, 0.5]"
      ]
     },
     "execution_count": 4,
     "metadata": {},
     "output_type": "execute_result"
    }
   ],
   "source": [
    "struct = Structure.from_file(\"cifs/178_224.cif\")\n",
    "struct"
   ]
  },
  {
   "cell_type": "markdown",
   "metadata": {},
   "source": [
    "Firstly, you can see that pymatgen will normalize coords automatically when building structure from CIF file."
   ]
  },
  {
   "cell_type": "code",
   "execution_count": 5,
   "metadata": {},
   "outputs": [
    {
     "data": {
      "text/plain": [
       "array([[0.        , 6.88172759, 6.88172759, ..., 4.90348518, 7.94268292,\n",
       "        4.4593836 ],\n",
       "       [6.88172759, 0.        , 6.88172759, ..., 7.94268292, 4.90348518,\n",
       "        4.4593836 ],\n",
       "       [6.88172759, 6.88172759, 0.        , ..., 4.4593836 , 4.4593836 ,\n",
       "        7.94268292],\n",
       "       ...,\n",
       "       [4.90348518, 7.94268292, 4.4593836 , ..., 0.        , 5.67329127,\n",
       "        6.30652077],\n",
       "       [7.94268292, 4.90348518, 4.4593836 , ..., 5.67329127, 0.        ,\n",
       "        6.30652077],\n",
       "       [4.4593836 , 4.4593836 , 7.94268292, ..., 6.30652077, 6.30652077,\n",
       "        0.        ]])"
      ]
     },
     "execution_count": 5,
     "metadata": {},
     "output_type": "execute_result"
    },
    {
     "data": {
      "text/plain": [
       "array([[0.        , 6.88172759, 6.88172759, ..., 4.90348518, 7.94268292,\n",
       "        4.4593836 ],\n",
       "       [0.        , 0.        , 6.88172759, ..., 7.94268292, 4.90348518,\n",
       "        4.4593836 ],\n",
       "       [0.        , 0.        , 0.        , ..., 4.4593836 , 4.4593836 ,\n",
       "        7.94268292],\n",
       "       ...,\n",
       "       [0.        , 0.        , 0.        , ..., 0.        , 5.67329127,\n",
       "        6.30652077],\n",
       "       [0.        , 0.        , 0.        , ..., 0.        , 0.        ,\n",
       "        6.30652077],\n",
       "       [0.        , 0.        , 0.        , ..., 0.        , 0.        ,\n",
       "        0.        ]])"
      ]
     },
     "execution_count": 5,
     "metadata": {},
     "output_type": "execute_result"
    }
   ],
   "source": [
    "pymatgen_dis = struct.distance_matrix\n",
    "crystallus_dis = pbc_all_distances(struct.lattice.matrix.tolist(), struct.frac_coords.tolist())\n",
    "crystallus_dis = np.array(crystallus_dis)\n",
    "\n",
    "pymatgen_dis\n",
    "crystallus_dis"
   ]
  },
  {
   "cell_type": "markdown",
   "metadata": {},
   "source": [
    "Secondly, our result is the same as that calculated by pymatgen, except that our result doesn't have the lower triangular part."
   ]
  },
  {
   "cell_type": "code",
   "execution_count": 6,
   "metadata": {},
   "outputs": [
    {
     "data": {
      "text/plain": [
       "(array([32, 32, 32, 32, 32, 32, 33, 33, 33, 33, 33, 33, 34, 34, 34, 34, 34,\n",
       "        34, 35, 35, 35, 35, 35, 35, 56, 56, 57, 57, 58, 58, 59, 59, 60, 60,\n",
       "        61, 61, 62, 62, 63, 63, 64, 64, 65, 65, 66, 66, 67, 67]),\n",
       " array([58, 62, 66, 70, 74, 78, 59, 60, 65, 71, 72, 77, 56, 61, 67, 68, 73,\n",
       "        79, 57, 63, 64, 69, 75, 76, 73, 79, 75, 76, 74, 78, 72, 77, 71, 77,\n",
       "        68, 79, 70, 78, 69, 76, 69, 75, 71, 72, 70, 74, 68, 73]))"
      ]
     },
     "execution_count": 6,
     "metadata": {},
     "output_type": "execute_result"
    },
    {
     "data": {
      "text/plain": [
       "np.float64(0.6042181598031264)"
      ]
     },
     "execution_count": 6,
     "metadata": {},
     "output_type": "execute_result"
    },
    {
     "data": {
      "text/plain": [
       "np.float64(0.6042181598031264)"
      ]
     },
     "execution_count": 6,
     "metadata": {},
     "output_type": "execute_result"
    }
   ],
   "source": [
    "np.where((crystallus_dis > 0) & (crystallus_dis < 1))\n",
    "\n",
    "pymatgen_dis[32, 58]\n",
    "crystallus_dis[32, 58]"
   ]
  },
  {
   "cell_type": "markdown",
   "metadata": {},
   "source": [
    "Also, very short distances exist. For example, the \\[32, 58\\] is 0.604218 Å."
   ]
  },
  {
   "cell_type": "markdown",
   "metadata": {},
   "source": [
    "Last, let's check the algorithm's usability when the input coords are not normalized.\n",
    "\n",
    "The unnormalized coords saved in `unnor_coords.csv` are copied from `178_224.cif`."
   ]
  },
  {
   "cell_type": "code",
   "execution_count": 7,
   "metadata": {},
   "outputs": [
    {
     "data": {
      "text/plain": [
       "np.void(('Al', 'Al0', 1, 0.25, 0.25, 0.25, 1), dtype=[('f0', '<U2'), ('f1', '<U4'), ('f2', '<i8'), ('f3', '<f8'), ('f4', '<f8'), ('f5', '<f8'), ('f6', '<i8')])"
      ]
     },
     "execution_count": 7,
     "metadata": {},
     "output_type": "execute_result"
    }
   ],
   "source": [
    "unnor_coords = np.genfromtxt(\"unnor_coords.csv\", delimiter=\"  \", dtype=None, encoding=\"utf-8\")\n",
    "unnor_coords[0]"
   ]
  },
  {
   "cell_type": "code",
   "execution_count": 8,
   "metadata": {},
   "outputs": [
    {
     "data": {
      "text/plain": [
       "array([[0.        , 8.42836057, 6.88172759, ..., 2.35215889, 2.35215889,\n",
       "        2.35215889],\n",
       "       [0.        , 0.        , 4.86611624, ..., 6.07620169, 6.07620169,\n",
       "        6.07620169],\n",
       "       [0.        , 0.        , 0.        , ..., 5.14370506, 5.14370506,\n",
       "        5.14370506],\n",
       "       ...,\n",
       "       [0.        , 0.        , 0.        , ..., 0.        , 3.84105938,\n",
       "        3.84105938],\n",
       "       [0.        , 0.        , 0.        , ..., 0.        , 0.        ,\n",
       "        3.84105938],\n",
       "       [0.        , 0.        , 0.        , ..., 0.        , 0.        ,\n",
       "        0.        ]])"
      ]
     },
     "execution_count": 8,
     "metadata": {},
     "output_type": "execute_result"
    }
   ],
   "source": [
    "unnor_dis = pbc_all_distances(struct.lattice.matrix.tolist(), unnor_coords[[\"f3\", \"f4\", \"f5\"]].tolist())\n",
    "unnor_dis = np.array(unnor_dis)\n",
    "\n",
    "unnor_dis"
   ]
  },
  {
   "cell_type": "code",
   "execution_count": 9,
   "metadata": {},
   "outputs": [
    {
     "data": {
      "text/plain": [
       "(array([20, 20, 20, 20, 20, 20, 21, 21, 21, 21, 21, 21, 22, 22, 22, 22, 22,\n",
       "        22, 23, 23, 23, 23, 23, 23, 44, 44, 45, 45, 46, 46, 47, 47, 48, 48,\n",
       "        49, 49, 50, 50, 51, 51, 52, 52, 53, 53, 54, 54, 55, 55]),\n",
       " array([46, 50, 54, 58, 62, 66, 47, 48, 53, 59, 60, 65, 44, 49, 55, 56, 61,\n",
       "        67, 45, 51, 52, 57, 63, 64, 61, 67, 63, 64, 62, 66, 60, 65, 59, 65,\n",
       "        56, 67, 58, 66, 57, 64, 57, 63, 59, 60, 58, 62, 56, 61]))"
      ]
     },
     "execution_count": 9,
     "metadata": {},
     "output_type": "execute_result"
    },
    {
     "data": {
      "text/plain": [
       "np.float64(0.6042181598031264)"
      ]
     },
     "execution_count": 9,
     "metadata": {},
     "output_type": "execute_result"
    }
   ],
   "source": [
    "np.where((unnor_dis > 0) & (unnor_dis < 1))\n",
    "\n",
    "unnor_dis[20, 46]"
   ]
  },
  {
   "cell_type": "markdown",
   "metadata": {},
   "source": [
    "You can see that even the coords are not normalized, the calculation still gives a correct result."
   ]
  }
 ],
 "metadata": {
  "kernelspec": {
   "display_name": ".venv",
   "language": "python",
   "name": "python3"
  },
  "language_info": {
   "codemirror_mode": {
    "name": "ipython",
    "version": 3
   },
   "file_extension": ".py",
   "mimetype": "text/x-python",
   "name": "python",
   "nbconvert_exporter": "python",
   "pygments_lexer": "ipython3",
   "version": "3.10.15"
  }
 },
 "nbformat": 4,
 "nbformat_minor": 4
}
