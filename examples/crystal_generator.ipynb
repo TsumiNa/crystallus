{
 "cells": [
  {
   "cell_type": "code",
   "execution_count": 1,
   "metadata": {},
   "outputs": [],
   "source": [
    "# user-friendly print\n",
    "from IPython.core.interactiveshell import InteractiveShell\n",
    "InteractiveShell.ast_node_interactivity = \"all\""
   ]
  },
  {
   "cell_type": "markdown",
   "metadata": {},
   "source": [
    "## Crystal structure generation\n",
    "\n",
    "To generate reasonable crystal structure under a given space group with a specific chemical composition, basicly the following four steps are needed.\n",
    "\n",
    "1. calculate possible Wyckoff configurations under a given space group for each chemical composition.\n",
    "2. generate fraction positions for each element with given a Wyckoff configuration which is calculated from step 1), randomly.\n",
    "3. generate lattice for the given space group which is used in step 1), randomly.\n",
    "4. combine the results from step 2) and 3) to obtain a crystal structure.\n",
    "\n",
    "Usually, we also have to check the `volume` and `atomic distances` of generated structure, only keep the structures which have reasonable `volume` and `atomic distances`.\n",
    "\n",
    "To facilitate all these jobs, our `crystallus` library provides three modules:\n",
    "\n",
    "* `WyckoffCfgGenerator`: generate possible Wyckoff configurations for the given space group and composition of primitive cell.\n",
    "* `CrystalGenerator`: generate crystal structures for the given space group and Wyckoff configurations.\n",
    "* `WyckoffDB, SpaceGroupDB`: database include space group and corresponding Wyckoff information.\n",
    "\n",
    "The folloing content shows how to use `crystallus`."
   ]
  },
  {
   "cell_type": "markdown",
   "metadata": {},
   "source": [
    "### 1. generate Wyckoff configurations\n",
    "\n",
    "As an example, we will try to generate structures for `Ca2C2O6`. The true space group of this structure is `167`, and the Wyckoff configuration is `{Ca: 2b, C: 2a, O: 6e}`.\n",
    "You can use `SpaceGroupDB` to get the information of Wyckoff position about space group `167`."
   ]
  },
  {
   "cell_type": "code",
   "execution_count": 2,
   "metadata": {},
   "outputs": [
    {
     "output_type": "execute_result",
     "data": {
      "text/plain": "[{'Wyckoff letter': 'f',\n  'multiplicity': 12,\n  'reusable': True,\n  'Wyckoff position': '(x,y,z), (z,x,y), (y,z,x), (-y+1/2,-x+1/2,-z+1/2), (-x+1/2,-z+1/2,-y+1/2), (-z+1/2,-y+1/2,-x+1/2), (-x,-y,-z), (-z,-x,-y), (-y,-z,-x), (y+1/2,x+1/2,z+1/2), (x+1/2,z+1/2,y+1/2), (z+1/2,y+1/2,x+1/2)'},\n {'Wyckoff letter': 'e',\n  'multiplicity': 6,\n  'reusable': True,\n  'Wyckoff position': '(x,-x+1/2,1/4), (1/4,x,-x+1/2), (-x+1/2,1/4,x), (-x,x+1/2,3/4), (3/4,-x,x+1/2), (x+1/2,3/4,-x)'},\n {'Wyckoff letter': 'd',\n  'multiplicity': 6,\n  'reusable': False,\n  'Wyckoff position': '(1/2,0,0), (0,1/2,0), (0,0,1/2), (1/2,0,1/2), (0,1/2,1/2), (1/2,1/2,0)'},\n {'Wyckoff letter': 'c',\n  'multiplicity': 4,\n  'reusable': True,\n  'Wyckoff position': '(x,x,x), (-x+1/2,-x+1/2,-x+1/2), (-x,-x,-x), (x+1/2,x+1/2,x+1/2)'},\n {'Wyckoff letter': 'b',\n  'multiplicity': 2,\n  'reusable': False,\n  'Wyckoff position': '(0,0,0), (1/2,1/2,1/2)'},\n {'Wyckoff letter': 'a',\n  'multiplicity': 2,\n  'reusable': False,\n  'Wyckoff position': '(1/4,1/4,1/4), (3/4,3/4,3/4)'}]"
     },
     "metadata": {},
     "execution_count": 2
    }
   ],
   "source": [
    "from crystallus import SpaceGroupDB\n",
    "\n",
    "wys = SpaceGroupDB.get(spacegroup_num=167).wyckoffs\n",
    "[{'Wyckoff letter': w.letter, 'multiplicity': w.multiplicity, 'reusable': w.reuse, 'Wyckoff position': w.positions} for w in wys ]"
   ]
  },
  {
   "cell_type": "markdown",
   "metadata": {},
   "source": [
    "Let's generate some possible Wyckoff configurations for the composition `Ca2C2O6` under space group `167`."
   ]
  },
  {
   "cell_type": "code",
   "execution_count": 3,
   "metadata": {},
   "outputs": [
    {
     "output_type": "stream",
     "text": "\u001b[0;31mInit signature:\u001b[0m \u001b[0mWyckoffCfgGenerator\u001b[0m\u001b[0;34m(\u001b[0m\u001b[0;34m*\u001b[0m\u001b[0;34m,\u001b[0m \u001b[0mmax_recurrent\u001b[0m\u001b[0;34m=\u001b[0m\u001b[0;36m1000\u001b[0m\u001b[0;34m,\u001b[0m \u001b[0mn_jobs\u001b[0m\u001b[0;34m=\u001b[0m\u001b[0;34m-\u001b[0m\u001b[0;36m1\u001b[0m\u001b[0;34m,\u001b[0m \u001b[0;34m**\u001b[0m\u001b[0mcomposition\u001b[0m\u001b[0;34m)\u001b[0m\u001b[0;34m\u001b[0m\u001b[0;34m\u001b[0m\u001b[0m\n\u001b[0;31mDocstring:\u001b[0m      <no docstring>\n\u001b[0;31mInit docstring:\u001b[0m\nA generator for possible Wyckoff configuration generation.\n\nParameters\n----------\nmax_recurrent : int, optional\n    Max recurrent until generate a reasonable structure, by default 5_000\nn_jobs : int, optional\n    Number of cpu cores when parallel calculation, by default -1\ncomposition: Dict\n    Composition of compounds in the primitive cell; should be formated\n    as {<element symbol>: <ratio in float>}.\n\u001b[0;31mFile:\u001b[0m           /usr/local/miniconda3/envs/crystallus/lib/python3.7/site-packages/crystallus/wyckoff_cfg_generator.py\n\u001b[0;31mType:\u001b[0m           type\n\u001b[0;31mSubclasses:\u001b[0m     \n"
    }
   ],
   "source": [
    "from crystallus import WyckoffCfgGenerator\n",
    "\n",
    "WyckoffCfgGenerator?"
   ]
  },
  {
   "cell_type": "code",
   "execution_count": 4,
   "metadata": {},
   "outputs": [
    {
     "output_type": "execute_result",
     "data": {
      "text/plain": "WyckoffCfgGenerator(            \n    max_recurrent=1000,            \n    n_jobs=-1            \n    composition={'Ca': 2, 'C': 2, 'O': 6}            \n)"
     },
     "metadata": {},
     "execution_count": 4
    }
   ],
   "source": [
    "composition = {'Ca': 2, 'C': 2, 'O': 6}\n",
    "\n",
    "wyg = WyckoffCfgGenerator(**composition)\n",
    "wyg"
   ]
  },
  {
   "cell_type": "markdown",
   "metadata": {},
   "source": [
    "You have noticed that the minimum input for the initialization of a `WyckoffCfgGenerator` is just a composition.\n",
    "Now, we can try to use this generator to generate Wyckoff configuration(s). First, let's try to generate one. This can be done by the `gen_one` method."
   ]
  },
  {
   "cell_type": "code",
   "execution_count": 5,
   "metadata": {},
   "outputs": [
    {
     "output_type": "stream",
     "text": "\u001b[0;31mSignature:\u001b[0m \u001b[0mwyg\u001b[0m\u001b[0;34m.\u001b[0m\u001b[0mgen_one\u001b[0m\u001b[0;34m(\u001b[0m\u001b[0mspacegroup_num\u001b[0m\u001b[0;34m:\u001b[0m \u001b[0mint\u001b[0m\u001b[0;34m)\u001b[0m\u001b[0;34m\u001b[0m\u001b[0;34m\u001b[0m\u001b[0m\n\u001b[0;31mDocstring:\u001b[0m\nTry to generate a possible Wyckoff configuration under the given space group.\n\nParameters\n----------\nspacegroup_num : int\n    Space group number.\n\nReturns\n-------\nDict\n    Wyckoff configuration set, which is a dict with format like:\n    {\"Li\": [\"a\", \"c\"], \"O\": [\"i\"]}. Here, the \"Li\" is an available element\n    symbol and [\"a\", \"c\"] is a list which contains coresponding Wyckoff\n    letters. For convenience, dict will be sorted by keys.\n\u001b[0;31mFile:\u001b[0m      /usr/local/miniconda3/envs/crystallus/lib/python3.7/site-packages/crystallus/wyckoff_cfg_generator.py\n\u001b[0;31mType:\u001b[0m      method\n"
    }
   ],
   "source": [
    "wyg.gen_one?"
   ]
  },
  {
   "cell_type": "code",
   "execution_count": 6,
   "metadata": {},
   "outputs": [
    {
     "output_type": "execute_result",
     "data": {
      "text/plain": "{'C': ['b'], 'Ca': ['a'], 'O': ['e']}"
     },
     "metadata": {},
     "execution_count": 6
    }
   ],
   "source": [
    "cfg = wyg.gen_one(spacegroup_num=167)\n",
    "cfg"
   ]
  },
  {
   "cell_type": "markdown",
   "metadata": {},
   "source": [
    "If everything goes well, the above cell will return a dict contains something like: `{'C': ['b'], 'Ca': ['a'], 'O': ['d']}`.\n",
    "Here, `C`, `Ca`, and `O` are the element names. All elements are sorted by the alphabet. The `['b']`, `['a']`, and `['d']` are the corresponding Wyckoff positions which are provided by Wyckoff letters.\n",
    "\n",
    "Maybe you are confused that the return of this method is not unique. That makes sense because under space group `167`, there are four possible configurations for the composition `Ca2C2O6`. Call the `gen_one` method will execute a random search in all possible configurations. When it finds one, it returns the result and stops searching. This means if you want to get more configurations, you should call the `gen_one` method many times. We know that for almost all the cases, the possible configurations are not one, to simplify your works, we provide the `gen_many` method."
   ]
  },
  {
   "cell_type": "code",
   "execution_count": 7,
   "metadata": {},
   "outputs": [
    {
     "output_type": "stream",
     "text": "\u001b[0;31mSignature:\u001b[0m \u001b[0mwyg\u001b[0m\u001b[0;34m.\u001b[0m\u001b[0mgen_many\u001b[0m\u001b[0;34m(\u001b[0m\u001b[0msize\u001b[0m\u001b[0;34m:\u001b[0m \u001b[0mint\u001b[0m\u001b[0;34m,\u001b[0m \u001b[0;34m*\u001b[0m\u001b[0mspacegroup_num\u001b[0m\u001b[0;34m:\u001b[0m \u001b[0mint\u001b[0m\u001b[0;34m)\u001b[0m\u001b[0;34m\u001b[0m\u001b[0;34m\u001b[0m\u001b[0m\n\u001b[0;31mDocstring:\u001b[0m\nTry to generate possible Wyckoff configuration sets.\n\nParameters\n----------\nsize : int\n    How many times to try for one space group.\nspacegroup_num: int\n    The spacegroup numbers.\n\nReturns\n-------\nDict[int, List[Dict]], List[Dict]\n    A collection contains spacegroup number and it's corresponding Wyckoff\n    configurations (wy_cfg). If only one spacegroup number was given,\n    will only return the list of wy_cfgs, otherwise return in dict with\n    spacegroup number as key. wy_cfgs will be formated as\n    {element 1: [Wyckoff_letter, Wyckoff_letter, ...], element 2: [...], ...}.\n\u001b[0;31mFile:\u001b[0m      /usr/local/miniconda3/envs/crystallus/lib/python3.7/site-packages/crystallus/wyckoff_cfg_generator.py\n\u001b[0;31mType:\u001b[0m      method\n"
    }
   ],
   "source": [
    "wyg.gen_many?"
   ]
  },
  {
   "cell_type": "code",
   "execution_count": 8,
   "metadata": {},
   "outputs": [
    {
     "output_type": "execute_result",
     "data": {
      "text/plain": "[{'C': ['a'], 'Ca': ['b'], 'O': ['d']},\n {'C': ['b'], 'Ca': ['a'], 'O': ['e']},\n {'C': ['b'], 'Ca': ['a'], 'O': ['d']},\n {'C': ['a'], 'Ca': ['b'], 'O': ['e']}]"
     },
     "metadata": {},
     "execution_count": 8
    }
   ],
   "source": [
    "cfgs = wyg.gen_many(100, 167)\n",
    "cfgs"
   ]
  },
  {
   "cell_type": "markdown",
   "metadata": {},
   "source": [
    "You can calculate more multiply space group in one call. Just list space group numbers as `*` parameters. In this case, the return will be a dict with space group number as key and configuration list as value. For example, if our space group candidate are `[194, 148, 167]`, you can call `gen_many` like this:"
   ]
  },
  {
   "cell_type": "code",
   "execution_count": 9,
   "metadata": {
    "tags": []
   },
   "outputs": [
    {
     "output_type": "stream",
     "name": "stdout",
     "text": "CPU times: user 8.58 ms, sys: 3.8 ms, total: 12.4 ms\nWall time: 1.86 ms\n"
    },
    {
     "output_type": "execute_result",
     "data": {
      "text/plain": "{194: [{'C': ['c'], 'Ca': ['b'], 'O': ['g']},\n  {'C': ['d'], 'Ca': ['c'], 'O': ['b', 'e']},\n  {'C': ['b'], 'Ca': ['d'], 'O': ['h']},\n  {'C': ['a'], 'Ca': ['d'], 'O': ['h']},\n  {'C': ['b'], 'Ca': ['a'], 'O': ['c', 'f']},\n  {'C': ['d'], 'Ca': ['b'], 'O': ['h']},\n  {'C': ['d'], 'Ca': ['c'], 'O': ['g']},\n  {'C': ['c'], 'Ca': ['a'], 'O': ['b', 'f']},\n  {'C': ['c'], 'Ca': ['a'], 'O': ['d', 'f']},\n  {'C': ['a'], 'Ca': ['c'], 'O': ['b', 'f']},\n  {'C': ['a'], 'Ca': ['b'], 'O': ['g']},\n  {'C': ['a'], 'Ca': ['b'], 'O': ['h']},\n  {'C': ['c'], 'Ca': ['d'], 'O': ['b', 'f']},\n  {'C': ['b'], 'Ca': ['a'], 'O': ['c', 'e']},\n  {'C': ['a'], 'Ca': ['d'], 'O': ['c', 'e']},\n  {'C': ['b'], 'Ca': ['d'], 'O': ['a', 'f']},\n  {'C': ['d'], 'Ca': ['b'], 'O': ['a', 'e']},\n  {'C': ['d'], 'Ca': ['b'], 'O': ['g']}],\n 148: [{'C': ['c'], 'Ca': ['c'], 'O': ['f']},\n  {'C': ['a', 'b'], 'Ca': ['c'], 'O': ['d', 'e']},\n  {'C': ['c'], 'Ca': ['a', 'b'], 'O': ['c', 'c', 'c']},\n  {'C': ['a', 'b'], 'Ca': ['c'], 'O': ['f']}],\n 167: [{'C': ['a'], 'Ca': ['b'], 'O': ['d']},\n  {'C': ['a'], 'Ca': ['b'], 'O': ['e']},\n  {'C': ['b'], 'Ca': ['a'], 'O': ['e']}]}"
     },
     "metadata": {},
     "execution_count": 9
    }
   ],
   "source": [
    "%%time\n",
    "\n",
    "cfgs = wyg.gen_many(20, 194, 148, 167)\n",
    "cfgs"
   ]
  },
  {
   "cell_type": "markdown",
   "metadata": {},
   "source": [
    "`gen_many_iter` is an iterative version of `gen_many`. You can use this method to render a progress bar during generation, or something else you want."
   ]
  },
  {
   "cell_type": "code",
   "execution_count": 10,
   "metadata": {
    "tags": []
   },
   "outputs": [
    {
     "output_type": "display_data",
     "data": {
      "text/plain": "HBox(children=(FloatProgress(value=0.0, max=9.0), HTML(value='')))",
      "application/vnd.jupyter.widget-view+json": {
       "version_major": 2,
       "version_minor": 0,
       "model_id": "4c04ea637ebf4111bfc80e20dccaa080"
      }
     },
     "metadata": {}
    },
    {
     "output_type": "stream",
     "name": "stdout",
     "text": "space group: 194, size of generated samples: 72\nspace group: 148, size of generated samples: 14\nspace group: 167, size of generated samples: 4\nspace group: 161, size of generated samples: 2\nspace group: 11, size of generated samples: 200\nspace group: 12, size of generated samples: 2376\nspace group: 65, size of generated samples: 4329\nspace group: 140, size of generated samples: 96\nspace group: 225, size of generated samples: 4\n\nCPU times: user 30.4 s, sys: 238 ms, total: 30.6 s\nWall time: 5.44 s\n"
    }
   ],
   "source": [
    "%%time\n",
    "\n",
    "from tqdm.notebook import tqdm\n",
    "\n",
    "space_group_cans = [194, 148, 167, 161, 11, 12, 65, 140, 225]\n",
    "\n",
    "with tqdm(total=len(space_group_cans)) as pbar:\n",
    "    for spacegroup_num, cfg_list in wyg.gen_many_iter(5000, *space_group_cans):\n",
    "        print(f'space group: {spacegroup_num}, size of generated samples: {len(cfg_list)}')\n",
    "        pbar.update()"
   ]
  },
  {
   "cell_type": "markdown",
   "metadata": {},
   "source": [
    "### 2. generate crystal structures\n",
    "\n",
    "We have generated some Wyckoff configurations, the next is consuming the Wyckoff configurations to generate crystal structures. To facilitate the task, we provide the `CrystalGenerator` class."
   ]
  },
  {
   "cell_type": "code",
   "execution_count": 11,
   "metadata": {},
   "outputs": [
    {
     "output_type": "stream",
     "text": "\u001b[0;31mInit signature:\u001b[0m\n\u001b[0mCrystalGenerator\u001b[0m\u001b[0;34m(\u001b[0m\u001b[0;34m\u001b[0m\n\u001b[0;34m\u001b[0m    \u001b[0mspacegroup_num\u001b[0m\u001b[0;34m:\u001b[0m \u001b[0mint\u001b[0m\u001b[0;34m,\u001b[0m\u001b[0;34m\u001b[0m\n\u001b[0;34m\u001b[0m    \u001b[0mestimated_volume\u001b[0m\u001b[0;34m:\u001b[0m \u001b[0mfloat\u001b[0m\u001b[0;34m,\u001b[0m\u001b[0;34m\u001b[0m\n\u001b[0;34m\u001b[0m    \u001b[0mestimated_variance\u001b[0m\u001b[0;34m:\u001b[0m \u001b[0mfloat\u001b[0m\u001b[0;34m,\u001b[0m\u001b[0;34m\u001b[0m\n\u001b[0;34m\u001b[0m    \u001b[0;34m*\u001b[0m\u001b[0;34m,\u001b[0m\u001b[0;34m\u001b[0m\n\u001b[0;34m\u001b[0m    \u001b[0mangle_range\u001b[0m\u001b[0;34m:\u001b[0m \u001b[0mTuple\u001b[0m\u001b[0;34m[\u001b[0m\u001b[0mfloat\u001b[0m\u001b[0;34m,\u001b[0m \u001b[0mfloat\u001b[0m\u001b[0;34m]\u001b[0m \u001b[0;34m=\u001b[0m \u001b[0;34m(\u001b[0m\u001b[0;36m30.0\u001b[0m\u001b[0;34m,\u001b[0m \u001b[0;36m150.0\u001b[0m\u001b[0;34m)\u001b[0m\u001b[0;34m,\u001b[0m\u001b[0;34m\u001b[0m\n\u001b[0;34m\u001b[0m    \u001b[0mangle_tolerance\u001b[0m\u001b[0;34m:\u001b[0m \u001b[0mfloat\u001b[0m \u001b[0;34m=\u001b[0m \u001b[0;36m20.0\u001b[0m\u001b[0;34m,\u001b[0m\u001b[0;34m\u001b[0m\n\u001b[0;34m\u001b[0m    \u001b[0mmax_attempts_number\u001b[0m\u001b[0;34m:\u001b[0m \u001b[0mint\u001b[0m \u001b[0;34m=\u001b[0m \u001b[0;36m5000\u001b[0m\u001b[0;34m,\u001b[0m\u001b[0;34m\u001b[0m\n\u001b[0;34m\u001b[0m    \u001b[0mn_jobs\u001b[0m\u001b[0;34m:\u001b[0m \u001b[0mint\u001b[0m \u001b[0;34m=\u001b[0m \u001b[0;34m-\u001b[0m\u001b[0;36m1\u001b[0m\u001b[0;34m,\u001b[0m\u001b[0;34m\u001b[0m\n\u001b[0;34m\u001b[0m    \u001b[0mverbose\u001b[0m\u001b[0;34m:\u001b[0m \u001b[0mbool\u001b[0m \u001b[0;34m=\u001b[0m \u001b[0;32mFalse\u001b[0m\u001b[0;34m,\u001b[0m\u001b[0;34m\u001b[0m\n\u001b[0;34m\u001b[0m\u001b[0;34m)\u001b[0m\u001b[0;34m\u001b[0m\u001b[0;34m\u001b[0m\u001b[0m\n\u001b[0;31mDocstring:\u001b[0m      <no docstring>\n\u001b[0;31mInit docstring:\u001b[0m\nA generator for possible crystal structure generation.\n\nParameters\n----------\nspacegroup_num : int\n    Specify the spacegroup.\nestimated_volume : float\n    The estimated volume of primitive cell. Unit is Å^3.\nestimated_variance : float\n    The estimated variance of volume prediction. Unit is Å^3.\n    ``estimated_volume`` and ``estimated_variance`` will be used to build\n    a Gaussion distribution for the sampling of volume of primitive cell.\n    We will use the abstract valuse if sampled volume is negative.\nangle_range : Tuple[float, float], optional\n    The range of the degree of angles when lattice generation. by default (30., 150.)\nangle_tolerance : float, optional\n    The Tolerance of minimum of the degree of angles when lattice generation, by default 20.\nmax_attempts_number : int, optional\n    Max recurrent until generate a reasonable lattice, by default is 5_000\nn_jobs : int, optional\n    Number of cpu cores when parallel calculation, by default -1\nverbose: bool, optional\n    Set to ``True`` to show more information.\n\u001b[0;31mFile:\u001b[0m           /usr/local/miniconda3/envs/crystallus/lib/python3.7/site-packages/crystallus/crystal_generator.py\n\u001b[0;31mType:\u001b[0m           type\n\u001b[0;31mSubclasses:\u001b[0m     \n"
    }
   ],
   "source": [
    "from crystallus import CrystalGenerator\n",
    "\n",
    "CrystalGenerator?"
   ]
  },
  {
   "cell_type": "markdown",
   "metadata": {},
   "source": [
    "To initialize a `CrystalGenerator`, parameter `spacegroup_num`, `estimated_volume` of primitive cell and the `estimated_variance` are needed at least."
   ]
  },
  {
   "cell_type": "code",
   "execution_count": 12,
   "metadata": {},
   "outputs": [
    {
     "output_type": "execute_result",
     "data": {
      "text/plain": "CrystalGenerator(            \n    spacegroup_num=167,            \n    estimated_volume=127.170256,            \n    estimated_variance=20.0,            \n    angle_range=(30.0, 150.0),            \n    angle_tolerance=20.0,            \n    max_attempts_number=5000,            \n    n_jobs=-1            \n)"
     },
     "metadata": {},
     "execution_count": 12
    }
   ],
   "source": [
    "estimated_volume = 127.170256\n",
    "estimated_variance = 20.\n",
    "sp_num = 167\n",
    "\n",
    "cg = CrystalGenerator(sp_num, estimated_volume, estimated_variance)\n",
    "cg"
   ]
  },
  {
   "cell_type": "markdown",
   "metadata": {},
   "source": [
    "Like the `WyckoffCfgGenerator`, there are also `gen_one`, `gen_many`, and `gen_may_iter` methods attached with `CrystalGenerator` object. Let's ues the `gen_one` method for a quick try."
   ]
  },
  {
   "cell_type": "code",
   "execution_count": 13,
   "metadata": {},
   "outputs": [
    {
     "output_type": "stream",
     "text": "\u001b[0;31mSignature:\u001b[0m\n\u001b[0mcg\u001b[0m\u001b[0;34m.\u001b[0m\u001b[0mgen_one\u001b[0m\u001b[0;34m(\u001b[0m\u001b[0;34m\u001b[0m\n\u001b[0;34m\u001b[0m    \u001b[0;34m*\u001b[0m\u001b[0;34m,\u001b[0m\u001b[0;34m\u001b[0m\n\u001b[0;34m\u001b[0m    \u001b[0mcheck_distance\u001b[0m\u001b[0;34m:\u001b[0m \u001b[0mbool\u001b[0m \u001b[0;34m=\u001b[0m \u001b[0;32mTrue\u001b[0m\u001b[0;34m,\u001b[0m\u001b[0;34m\u001b[0m\n\u001b[0;34m\u001b[0m    \u001b[0mdistance_scale_factor\u001b[0m\u001b[0;34m:\u001b[0m \u001b[0mfloat\u001b[0m \u001b[0;34m=\u001b[0m \u001b[0;36m0.1\u001b[0m\u001b[0;34m,\u001b[0m\u001b[0;34m\u001b[0m\n\u001b[0;34m\u001b[0m    \u001b[0;34m**\u001b[0m\u001b[0mcfg\u001b[0m\u001b[0;34m:\u001b[0m \u001b[0mDict\u001b[0m\u001b[0;34m[\u001b[0m\u001b[0mstr\u001b[0m\u001b[0;34m,\u001b[0m \u001b[0mTuple\u001b[0m\u001b[0;34m[\u001b[0m\u001b[0mstr\u001b[0m\u001b[0;34m]\u001b[0m\u001b[0;34m]\u001b[0m\u001b[0;34m,\u001b[0m\u001b[0;34m\u001b[0m\n\u001b[0;34m\u001b[0m\u001b[0;34m)\u001b[0m\u001b[0;34m\u001b[0m\u001b[0;34m\u001b[0m\u001b[0m\n\u001b[0;31mDocstring:\u001b[0m\nTry to generate a legal crystal structure with given configuration set.\n\nParameters\n----------\ncheck_distance: bool, optional\n    Whether the atomic distance should be checked. default ``True``\ndistance_scale_factor : float, optional\n    Scale factor to determine the tolerance of atomic distances when distance checking. Unit is Å,\n    When ``check_distance`` is ``True``, Any structure has\n    all_atomic_distance < (A_atom_covalent_radius + B_atom_covalent_radius) * (1 - distance_scale_factor) will be rejected,\n    by default 0.1\n**cfg: Dict[str, Tuple[str]]\n    Wyckoff Configuration set, which is a dict with format like:\n    {\"Li\": [\"a\", \"c\"], \"O\": [\"i\"]}. Here, the \"Li\" is an available element\n    symbol and [\"a\", \"c\"] is a list which contains coresponding Wyckoff\n    letters. For convenience, dict will be sorted by keys.\n\nReturns\n-------\nDict\n    Structure information contains ``spacegroup_mun: int``,\n    ``volume: float``, ``lattice: list``, ``wyckoff_letters: list``,\n    and ``coords: list``.\n\u001b[0;31mFile:\u001b[0m      /usr/local/miniconda3/envs/crystallus/lib/python3.7/site-packages/crystallus/crystal_generator.py\n\u001b[0;31mType:\u001b[0m      method\n"
    }
   ],
   "source": [
    "cg.gen_one?"
   ]
  },
  {
   "cell_type": "markdown",
   "metadata": {},
   "source": [
    "All `gen_xxx` methods consume Wyckoff configurations to generate crystal structures. Please note the parameter `distance_scale_factor`, generator use this parameter to determine the acceptabel atomic distance. Here is the accept condition:\n",
    "> distance between atom `a` and `b` > (radius of `a` + radius of `b`) x (1 – `distance_scale_factor`).\n",
    "\n",
    "If the generator cannot generate any structure after multiple attempts, you can try to relax the atomic distance constraint by increasing this parameter."
   ]
  },
  {
   "cell_type": "code",
   "execution_count": 14,
   "metadata": {
    "tags": []
   },
   "outputs": [
    {
     "output_type": "stream",
     "name": "stdout",
     "text": "CPU times: user 85.8 ms, sys: 17.4 ms, total: 103 ms\nWall time: 105 ms\n"
    },
    {
     "output_type": "execute_result",
     "data": {
      "text/plain": "{'spacegroup_num': 167,\n 'volume': 134.16220747519037,\n 'lattice': [[5.115611466688145, 0.0, 0.7072191204793582],\n  [0.6161743395476401, 5.078366849824288, 0.7072191204793582],\n  [0.0, 0.0, 5.164265636320699]],\n 'species': ['C', 'C', 'Ca', 'Ca', 'O', 'O', 'O', 'O', 'O', 'O'],\n 'wyckoff_letters': ['a', 'a', 'b', 'b', 'd', 'd', 'd', 'd', 'd', 'd'],\n 'coords': [[0.25, 0.25, 0.25],\n  [0.75, 0.75, 0.75],\n  [0.0, 0.0, 0.0],\n  [0.5, 0.5, 0.5],\n  [0.5, 0.0, 0.0],\n  [0.0, 0.5, 0.0],\n  [0.0, 0.0, 0.5],\n  [0.5, 0.0, 0.5],\n  [0.0, 0.5, 0.5],\n  [0.5, 0.5, 0.0]]}"
     },
     "metadata": {},
     "execution_count": 14
    }
   ],
   "source": [
    "%%time\n",
    "\n",
    "cfgs[sp_num][0]\n",
    "\n",
    "raw_s = cg.gen_one(**cfgs[sp_num][0])\n",
    "raw_s"
   ]
  },
  {
   "cell_type": "markdown",
   "metadata": {},
   "source": [
    "The result is a dict contains `species`, `lattice`, `coords` and other information. These information can be used to build the  `pymatgen.Structure` and `ase.Structure` object."
   ]
  },
  {
   "cell_type": "code",
   "execution_count": 15,
   "metadata": {},
   "outputs": [
    {
     "output_type": "execute_result",
     "data": {
      "text/plain": "Structure Summary\nLattice\n    abc : 5.1642656363207 5.164265636320699 5.164265636320699\n angles : 82.12890896507116 82.12890896507116 82.12890896507116\n volume : 134.16220747519034\n      A : 5.115611466688145 0.0 0.7072191204793582\n      B : 0.6161743395476401 5.078366849824288 0.7072191204793582\n      C : 0.0 0.0 5.164265636320699\nPeriodicSite: C (1.4329, 1.2696, 1.6447) [0.2500, 0.2500, 0.2500]\nPeriodicSite: C (4.2988, 3.8088, 4.9340) [0.7500, 0.7500, 0.7500]\nPeriodicSite: Ca (0.0000, 0.0000, 0.0000) [0.0000, 0.0000, 0.0000]\nPeriodicSite: Ca (2.8659, 2.5392, 3.2894) [0.5000, 0.5000, 0.5000]\nPeriodicSite: O (2.5578, 0.0000, 0.3536) [0.5000, 0.0000, 0.0000]\nPeriodicSite: O (0.3081, 2.5392, 0.3536) [0.0000, 0.5000, 0.0000]\nPeriodicSite: O (0.0000, 0.0000, 2.5821) [0.0000, 0.0000, 0.5000]\nPeriodicSite: O (2.5578, 0.0000, 2.9357) [0.5000, 0.0000, 0.5000]\nPeriodicSite: O (0.3081, 2.5392, 2.9357) [0.0000, 0.5000, 0.5000]\nPeriodicSite: O (2.8659, 2.5392, 0.7072) [0.5000, 0.5000, 0.0000]"
     },
     "metadata": {},
     "execution_count": 15
    }
   ],
   "source": [
    "from pymatgen import Structure\n",
    "\n",
    "s = Structure(lattice=raw_s['lattice'], species=raw_s['species'], coords=raw_s['coords'])\n",
    "s"
   ]
  },
  {
   "cell_type": "markdown",
   "metadata": {},
   "source": [
    "The following is batched generation."
   ]
  },
  {
   "cell_type": "code",
   "execution_count": 16,
   "metadata": {
    "tags": []
   },
   "outputs": [
    {
     "output_type": "stream",
     "name": "stdout",
     "text": "type of raw_ss: <class 'tuple'>, size: 125\nCPU times: user 17.1 ms, sys: 5.92 ms, total: 23 ms\nWall time: 8.3 ms\n"
    }
   ],
   "source": [
    "%%time\n",
    "\n",
    "raw_ss = cg.gen_many(100, *cfgs[sp_num])\n",
    "\n",
    "print(f\"type of raw_ss: {raw_ss.__class__}, size: {len(raw_ss)}\")"
   ]
  },
  {
   "cell_type": "markdown",
   "metadata": {},
   "source": [
    "Also, the iterative version"
   ]
  },
  {
   "cell_type": "code",
   "execution_count": 17,
   "metadata": {
    "tags": []
   },
   "outputs": [
    {
     "output_type": "display_data",
     "data": {
      "text/plain": "HBox(children=(FloatProgress(value=0.0, max=3.0), HTML(value='')))",
      "application/vnd.jupyter.widget-view+json": {
       "version_major": 2,
       "version_minor": 0,
       "model_id": "cd4ccbef7e5b40289448ac18f787ef46"
      }
     },
     "metadata": {}
    },
    {
     "output_type": "stream",
     "name": "stdout",
     "text": "configuration: {'C': ['a'], 'Ca': ['b'], 'O': ['d']}, size of structures: 455\nconfiguration: {'C': ['a'], 'Ca': ['b'], 'O': ['e']}, size of structures: 106\nconfiguration: {'C': ['b'], 'Ca': ['a'], 'O': ['e']}, size of structures: 99\n\nCPU times: user 98.9 ms, sys: 15 ms, total: 114 ms\nWall time: 51.3 ms\n"
    }
   ],
   "source": [
    "%%time\n",
    "\n",
    "with tqdm(total=len(cfgs[sp_num])) as pbar:\n",
    "    for cfg, structures in cg.gen_many_iter(500, *cfgs[sp_num]):\n",
    "        print(f'configuration: {cfg}, size of structures: {len(structures)}')\n",
    "        pbar.update()"
   ]
  },
  {
   "cell_type": "code",
   "execution_count": null,
   "metadata": {},
   "outputs": [],
   "source": []
  }
 ],
 "metadata": {
  "kernelspec": {
   "display_name": "Python 3.7.7 64-bit ('crystallus': conda)",
   "language": "python",
   "name": "python_defaultSpec_1594814285771"
  },
  "language_info": {
   "codemirror_mode": {
    "name": "ipython",
    "version": 3
   },
   "file_extension": ".py",
   "mimetype": "text/x-python",
   "name": "python",
   "nbconvert_exporter": "python",
   "pygments_lexer": "ipython3",
   "version": "3.7.7-final"
  }
 },
 "nbformat": 4,
 "nbformat_minor": 4
}