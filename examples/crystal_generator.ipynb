{
 "cells": [
  {
   "cell_type": "code",
   "execution_count": 1,
   "metadata": {},
   "outputs": [],
   "source": [
    "import joblib\n",
    "import numpy as np\n",
    "import pandas as pd\n",
    "\n",
    "from pymatgen import Structure\n",
    "\n",
    "from crystallus import CrystalGenerator, WyckoffCfgGenerator, WyckoffDB, SpaceGroupDB\n",
    "\n",
    "# user-friendly print\n",
    "from IPython.core.interactiveshell import InteractiveShell\n",
    "InteractiveShell.ast_node_interactivity = \"all\""
   ]
  },
  {
   "cell_type": "code",
   "execution_count": 2,
   "metadata": {},
   "outputs": [],
   "source": [
    "cfgs = joblib.load('cfgs.pkl.z')"
   ]
  },
  {
   "cell_type": "code",
   "execution_count": 3,
   "metadata": {},
   "outputs": [],
   "source": [
    "composition = 'Ti4O8'\n",
    "estimated_volume = 146.706\n",
    "estimated_variance = 20\n",
    "sp_num = 12"
   ]
  },
  {
   "cell_type": "code",
   "execution_count": 4,
   "metadata": {},
   "outputs": [
    {
     "data": {
      "text/plain": [
       "CrystalGenerator(            \n",
       "    spacegroup_num=12,            \n",
       "    estimated_volume=146.706,            \n",
       "    estimated_variance=20,            \n",
       "     min_distance_tolerance=0.15,            \n",
       "    angle_range=(30.0, 150.0),            \n",
       "    angle_tolerance=20.0,            \n",
       "    max_recurrent=5000,            \n",
       "    n_jobs=-1            \n",
       ")"
      ]
     },
     "execution_count": 4,
     "metadata": {},
     "output_type": "execute_result"
    }
   ],
   "source": [
    "cg = CrystalGenerator(sp_num, estimated_volume, estimated_variance)\n",
    "cg"
   ]
  },
  {
   "cell_type": "code",
   "execution_count": 5,
   "metadata": {},
   "outputs": [
    {
     "data": {
      "text/plain": [
       "2250"
      ]
     },
     "execution_count": 5,
     "metadata": {},
     "output_type": "execute_result"
    }
   ],
   "source": [
    "len(cfgs[sp_num])"
   ]
  },
  {
   "cell_type": "code",
   "execution_count": null,
   "metadata": {},
   "outputs": [],
   "source": [
    "%%time\n",
    "\n",
    "ret = cg.gen_many(10, *cfgs[sp_num])"
   ]
  },
  {
   "cell_type": "code",
   "execution_count": 46,
   "metadata": {},
   "outputs": [
    {
     "name": "stdout",
     "output_type": "stream",
     "text": [
      "CPU times: user 3min 40s, sys: 641 ms, total: 3min 41s\n",
      "Wall time: 3min 41s\n"
     ]
    },
    {
     "data": {
      "text/plain": [
       "['Ti4O8_space_group_12.pkl.z']"
      ]
     },
     "execution_count": 46,
     "metadata": {},
     "output_type": "execute_result"
    }
   ],
   "source": [
    "%%time\n",
    "\n",
    "len(ret)\n",
    "joblib.dump(ret, f\"{composition}_space_group_{sp_num}.pkl.z\")"
   ]
  },
  {
   "cell_type": "code",
   "execution_count": 23,
   "metadata": {},
   "outputs": [],
   "source": [
    "for i, tmp in enumerate(ret):\n",
    "    s = Structure(lattice=tmp['lattice'], species=tmp['species'], coords=np.asarray(tmp['coords']).reshape(-1, 3))\n",
    "    s.to(fmt='cif', filename=f'generated_cifs/{i}.cif', symprec=0.01)"
   ]
  },
  {
   "cell_type": "markdown",
   "metadata": {},
   "source": [
    "---------"
   ]
  },
  {
   "cell_type": "code",
   "execution_count": 41,
   "metadata": {},
   "outputs": [
    {
     "data": {
      "text/html": [
       "<div>\n",
       "<style scoped>\n",
       "    .dataframe tbody tr th:only-of-type {\n",
       "        vertical-align: middle;\n",
       "    }\n",
       "\n",
       "    .dataframe tbody tr th {\n",
       "        vertical-align: top;\n",
       "    }\n",
       "\n",
       "    .dataframe thead th {\n",
       "        text-align: right;\n",
       "    }\n",
       "</style>\n",
       "<table border=\"1\" class=\"dataframe\">\n",
       "  <thead>\n",
       "    <tr style=\"text-align: right;\">\n",
       "      <th></th>\n",
       "      <th>structure</th>\n",
       "      <th>volume</th>\n",
       "      <th>wy_letters</th>\n",
       "      <th>abs_volume_error</th>\n",
       "      <th>expect_spacegroup_num</th>\n",
       "      <th>spacegroup_num</th>\n",
       "      <th>composition</th>\n",
       "      <th>formula</th>\n",
       "      <th>reduced_formula</th>\n",
       "    </tr>\n",
       "  </thead>\n",
       "  <tbody>\n",
       "    <tr>\n",
       "      <th>0</th>\n",
       "      <td>[[1.88837334e+00 0.00000000e+00 1.15629519e-16...</td>\n",
       "      <td>101.836993</td>\n",
       "      <td>['b', 'b', 'b', 'b', 'c', 'c', 'c', 'c', 'c', ...</td>\n",
       "      <td>43.922498</td>\n",
       "      <td>62</td>\n",
       "      <td>62</td>\n",
       "      <td>{'Ti': 4.0, 'O': 8.0}</td>\n",
       "      <td>Ti4 O8</td>\n",
       "      <td>TiO2</td>\n",
       "    </tr>\n",
       "    <tr>\n",
       "      <th>1</th>\n",
       "      <td>[[0.         0.         4.27747382] Ti, [1.875...</td>\n",
       "      <td>178.289220</td>\n",
       "      <td>['b', 'b', 'b', 'b', 'c', 'c', 'c', 'c', 'c', ...</td>\n",
       "      <td>32.529729</td>\n",
       "      <td>62</td>\n",
       "      <td>62</td>\n",
       "      <td>{'Ti': 4.0, 'O': 8.0}</td>\n",
       "      <td>Ti4 O8</td>\n",
       "      <td>TiO2</td>\n",
       "    </tr>\n",
       "    <tr>\n",
       "      <th>2</th>\n",
       "      <td>[[1.78799577e+00 0.00000000e+00 1.09483165e-16...</td>\n",
       "      <td>159.290015</td>\n",
       "      <td>['b', 'b', 'b', 'b', 'c', 'c', 'c', 'c', 'c', ...</td>\n",
       "      <td>13.530524</td>\n",
       "      <td>62</td>\n",
       "      <td>62</td>\n",
       "      <td>{'Ti': 4.0, 'O': 8.0}</td>\n",
       "      <td>Ti4 O8</td>\n",
       "      <td>TiO2</td>\n",
       "    </tr>\n",
       "    <tr>\n",
       "      <th>3</th>\n",
       "      <td>[[5.50715331e-16 3.42458538e+00 2.09695376e-16...</td>\n",
       "      <td>217.680693</td>\n",
       "      <td>['b', 'b', 'b', 'b', 'c', 'c', 'c', 'c', 'c', ...</td>\n",
       "      <td>71.921202</td>\n",
       "      <td>62</td>\n",
       "      <td>62</td>\n",
       "      <td>{'Ti': 4.0, 'O': 8.0}</td>\n",
       "      <td>Ti4 O8</td>\n",
       "      <td>TiO2</td>\n",
       "    </tr>\n",
       "    <tr>\n",
       "      <th>4</th>\n",
       "      <td>[[1.72132126e+00 0.00000000e+00 1.05400529e-16...</td>\n",
       "      <td>102.555776</td>\n",
       "      <td>['b', 'b', 'b', 'b', 'c', 'c', 'c', 'c', 'c', ...</td>\n",
       "      <td>43.203715</td>\n",
       "      <td>62</td>\n",
       "      <td>62</td>\n",
       "      <td>{'Ti': 4.0, 'O': 8.0}</td>\n",
       "      <td>Ti4 O8</td>\n",
       "      <td>TiO2</td>\n",
       "    </tr>\n",
       "    <tr>\n",
       "      <th>...</th>\n",
       "      <td>...</td>\n",
       "      <td>...</td>\n",
       "      <td>...</td>\n",
       "      <td>...</td>\n",
       "      <td>...</td>\n",
       "      <td>...</td>\n",
       "      <td>...</td>\n",
       "      <td>...</td>\n",
       "      <td>...</td>\n",
       "    </tr>\n",
       "    <tr>\n",
       "      <th>343807</th>\n",
       "      <td>[[3.86475998 1.27962131 0.        ] Ti, [ 3.86...</td>\n",
       "      <td>114.654707</td>\n",
       "      <td>['e', 'e', 'e', 'e', 'h', 'h', 'h', 'h', 'f', ...</td>\n",
       "      <td>31.104784</td>\n",
       "      <td>12</td>\n",
       "      <td>12</td>\n",
       "      <td>{'Ti': 4.0, 'O': 8.0}</td>\n",
       "      <td>Ti4 O8</td>\n",
       "      <td>TiO2</td>\n",
       "    </tr>\n",
       "    <tr>\n",
       "      <th>343808</th>\n",
       "      <td>[[ 9.93926397  0.47687515 -2.25417177] Ti, [ 9...</td>\n",
       "      <td>167.169318</td>\n",
       "      <td>['f', 'f', 'f', 'f', 'h', 'h', 'h', 'h', 'e', ...</td>\n",
       "      <td>21.409827</td>\n",
       "      <td>12</td>\n",
       "      <td>12</td>\n",
       "      <td>{'Ti': 4.0, 'O': 8.0}</td>\n",
       "      <td>Ti4 O8</td>\n",
       "      <td>TiO2</td>\n",
       "    </tr>\n",
       "    <tr>\n",
       "      <th>343809</th>\n",
       "      <td>[[ 2.20488723 -2.31374092  0.        ] Ti, [ 6...</td>\n",
       "      <td>216.465334</td>\n",
       "      <td>['e', 'e', 'e', 'e', 'h', 'h', 'h', 'h', 'f', ...</td>\n",
       "      <td>70.705843</td>\n",
       "      <td>12</td>\n",
       "      <td>12</td>\n",
       "      <td>{'Ti': 4.0, 'O': 8.0}</td>\n",
       "      <td>Ti4 O8</td>\n",
       "      <td>TiO2</td>\n",
       "    </tr>\n",
       "    <tr>\n",
       "      <th>343810</th>\n",
       "      <td>[[ 7.11999218 -3.10852331  0.        ] Ti, [ 2...</td>\n",
       "      <td>187.014163</td>\n",
       "      <td>['e', 'e', 'e', 'e', 'h', 'h', 'h', 'h', 'f', ...</td>\n",
       "      <td>41.254672</td>\n",
       "      <td>12</td>\n",
       "      <td>12</td>\n",
       "      <td>{'Ti': 4.0, 'O': 8.0}</td>\n",
       "      <td>Ti4 O8</td>\n",
       "      <td>TiO2</td>\n",
       "    </tr>\n",
       "    <tr>\n",
       "      <th>343811</th>\n",
       "      <td>[[ 8.76605048 -2.40533871 -2.00578927] Ti, [ 8...</td>\n",
       "      <td>116.063495</td>\n",
       "      <td>['f', 'f', 'f', 'f', 'h', 'h', 'h', 'h', 'e', ...</td>\n",
       "      <td>29.695996</td>\n",
       "      <td>12</td>\n",
       "      <td>12</td>\n",
       "      <td>{'Ti': 4.0, 'O': 8.0}</td>\n",
       "      <td>Ti4 O8</td>\n",
       "      <td>TiO2</td>\n",
       "    </tr>\n",
       "  </tbody>\n",
       "</table>\n",
       "<p>343812 rows × 9 columns</p>\n",
       "</div>"
      ],
      "text/plain": [
       "                                                structure      volume  \\\n",
       "0       [[1.88837334e+00 0.00000000e+00 1.15629519e-16...  101.836993   \n",
       "1       [[0.         0.         4.27747382] Ti, [1.875...  178.289220   \n",
       "2       [[1.78799577e+00 0.00000000e+00 1.09483165e-16...  159.290015   \n",
       "3       [[5.50715331e-16 3.42458538e+00 2.09695376e-16...  217.680693   \n",
       "4       [[1.72132126e+00 0.00000000e+00 1.05400529e-16...  102.555776   \n",
       "...                                                   ...         ...   \n",
       "343807  [[3.86475998 1.27962131 0.        ] Ti, [ 3.86...  114.654707   \n",
       "343808  [[ 9.93926397  0.47687515 -2.25417177] Ti, [ 9...  167.169318   \n",
       "343809  [[ 2.20488723 -2.31374092  0.        ] Ti, [ 6...  216.465334   \n",
       "343810  [[ 7.11999218 -3.10852331  0.        ] Ti, [ 2...  187.014163   \n",
       "343811  [[ 8.76605048 -2.40533871 -2.00578927] Ti, [ 8...  116.063495   \n",
       "\n",
       "                                               wy_letters  abs_volume_error  \\\n",
       "0       ['b', 'b', 'b', 'b', 'c', 'c', 'c', 'c', 'c', ...         43.922498   \n",
       "1       ['b', 'b', 'b', 'b', 'c', 'c', 'c', 'c', 'c', ...         32.529729   \n",
       "2       ['b', 'b', 'b', 'b', 'c', 'c', 'c', 'c', 'c', ...         13.530524   \n",
       "3       ['b', 'b', 'b', 'b', 'c', 'c', 'c', 'c', 'c', ...         71.921202   \n",
       "4       ['b', 'b', 'b', 'b', 'c', 'c', 'c', 'c', 'c', ...         43.203715   \n",
       "...                                                   ...               ...   \n",
       "343807  ['e', 'e', 'e', 'e', 'h', 'h', 'h', 'h', 'f', ...         31.104784   \n",
       "343808  ['f', 'f', 'f', 'f', 'h', 'h', 'h', 'h', 'e', ...         21.409827   \n",
       "343809  ['e', 'e', 'e', 'e', 'h', 'h', 'h', 'h', 'f', ...         70.705843   \n",
       "343810  ['e', 'e', 'e', 'e', 'h', 'h', 'h', 'h', 'f', ...         41.254672   \n",
       "343811  ['f', 'f', 'f', 'f', 'h', 'h', 'h', 'h', 'e', ...         29.695996   \n",
       "\n",
       "        expect_spacegroup_num  spacegroup_num            composition formula  \\\n",
       "0                          62              62  {'Ti': 4.0, 'O': 8.0}  Ti4 O8   \n",
       "1                          62              62  {'Ti': 4.0, 'O': 8.0}  Ti4 O8   \n",
       "2                          62              62  {'Ti': 4.0, 'O': 8.0}  Ti4 O8   \n",
       "3                          62              62  {'Ti': 4.0, 'O': 8.0}  Ti4 O8   \n",
       "4                          62              62  {'Ti': 4.0, 'O': 8.0}  Ti4 O8   \n",
       "...                       ...             ...                    ...     ...   \n",
       "343807                     12              12  {'Ti': 4.0, 'O': 8.0}  Ti4 O8   \n",
       "343808                     12              12  {'Ti': 4.0, 'O': 8.0}  Ti4 O8   \n",
       "343809                     12              12  {'Ti': 4.0, 'O': 8.0}  Ti4 O8   \n",
       "343810                     12              12  {'Ti': 4.0, 'O': 8.0}  Ti4 O8   \n",
       "343811                     12              12  {'Ti': 4.0, 'O': 8.0}  Ti4 O8   \n",
       "\n",
       "       reduced_formula  \n",
       "0                 TiO2  \n",
       "1                 TiO2  \n",
       "2                 TiO2  \n",
       "3                 TiO2  \n",
       "4                 TiO2  \n",
       "...                ...  \n",
       "343807            TiO2  \n",
       "343808            TiO2  \n",
       "343809            TiO2  \n",
       "343810            TiO2  \n",
       "343811            TiO2  \n",
       "\n",
       "[343812 rows x 9 columns]"
      ]
     },
     "execution_count": 41,
     "metadata": {},
     "output_type": "execute_result"
    }
   ],
   "source": [
    "structure_table = pd.read_pickle('Ti4O8_structure_table_old.pd.xz')\n",
    "structure_table"
   ]
  },
  {
   "cell_type": "code",
   "execution_count": 42,
   "metadata": {},
   "outputs": [],
   "source": [
    "tmp = structure_table.groupby('spacegroup_num')['wy_letters'].value_counts()"
   ]
  },
  {
   "cell_type": "code",
   "execution_count": null,
   "metadata": {},
   "outputs": [],
   "source": [
    "from matplotlib import pyplot as plt\n",
    "\n",
    "f, (ax1, ax2) = plt.subplots(1, 2, figsize=(12, 8),dpi=100)\n",
    "structure_table.shape\n",
    "ax = structure_table.groupby('spacegroup_num').count().sort_values('formula', ascending=False).plot.bar(y=['structure'], ax=ax1)\n",
    "ax.text(25,190000,'Ca2C2O6\\nsize: 624899', fontsize=15, ha='right')\n",
    "\n",
    "ax = structure_table.volume.hist(ax=ax2)\n",
    "ax.xaxis.grid(False)\n",
    "ax.grid(linestyle='--', linewidth=1, axis='y')\n",
    "ax.set_xlabel('volume')\n",
    "\n",
    "plt.tight_layout()"
   ]
  }
 ],
 "metadata": {
  "kernelspec": {
   "display_name": "Python 3",
   "language": "python",
   "name": "python3"
  },
  "language_info": {
   "codemirror_mode": {
    "name": "ipython",
    "version": 3
   },
   "file_extension": ".py",
   "mimetype": "text/x-python",
   "name": "python",
   "nbconvert_exporter": "python",
   "pygments_lexer": "ipython3",
   "version": "3.7.6"
  }
 },
 "nbformat": 4,
 "nbformat_minor": 4
}
