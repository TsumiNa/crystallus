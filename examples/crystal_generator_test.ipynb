{
 "cells": [
  {
   "cell_type": "code",
   "execution_count": 1,
   "metadata": {},
   "outputs": [],
   "source": [
    "# user-friendly print\n",
    "from IPython.core.interactiveshell import InteractiveShell\n",
    "InteractiveShell.ast_node_interactivity = \"all\""
   ]
  },
  {
   "cell_type": "markdown",
   "metadata": {},
   "source": [
    "## Crystal structure generation\n",
    "\n",
    "To generate legal structure under a given space group with specific chemical composition, basicly the following four steps are needed.\n",
    "\n",
    "1. calculate possible Wyckoff configurations under a given space group for each chemical composition.\n",
    "2. generate fraction positions for each element with given a Wyckoff configuration which is calculated from step 1), randomly.\n",
    "3. generate lattice for the given space group which is used in step 1), randomly.\n",
    "4. combine the results from step 2) and 3) to obtain a legal structure.\n",
    "\n",
    "Usually, we also have to check the `volume` and `atomic distances` of generated structure, only keep the structures which have reasonable `volume` and `atomic distances`.\n",
    "\n",
    "To facilitate these jobs, our `crystallus` library provides four modules:\n",
    "\n",
    "* `WyckoffCfgGenerator`: generate possible Wyckoff configurations for the given space group and composition of primitive cell.\n",
    "* `CrystalGenerator`: generate crystal structures for the given space group and Wyckoff configurations.\n",
    "* `WyckoffDB, SpaceGroupDB`: database include space group and corresponding Wyckoff information.\n",
    "\n",
    "We will show how to use `crystallus` to generate legal structures."
   ]
  },
  {
   "cell_type": "markdown",
   "metadata": {},
   "source": [
    "### 1. generate Wyckoff configurations\n",
    "\n",
    "As an example, we will try to generate structures for `Ca2C2O6`. The true space group of this structure is `167`, and the Wyckoff configuration is `{Ca: 2b, C: 2a, O: 6e}`.\n",
    "You can use `SpaceGroupDB` to get the information of Wyckoff position about space group `167`."
   ]
  },
  {
   "cell_type": "code",
   "execution_count": 2,
   "metadata": {},
   "outputs": [
    {
     "output_type": "execute_result",
     "data": {
      "text/plain": "[{'Wyckoff letter': 'f',\n  'multiplicity': 12,\n  'reusable': True,\n  'Wyckoff position': '(x,y,z), (z,x,y), (y,z,x), (-y+1/2,-x+1/2,-z+1/2), (-x+1/2,-z+1/2,-y+1/2), (-z+1/2,-y+1/2,-x+1/2), (-x,-y,-z), (-z,-x,-y), (-y,-z,-x), (y+1/2,x+1/2,z+1/2), (x+1/2,z+1/2,y+1/2), (z+1/2,y+1/2,x+1/2)'},\n {'Wyckoff letter': 'e',\n  'multiplicity': 6,\n  'reusable': True,\n  'Wyckoff position': '(x,-x+1/2,1/4), (1/4,x,-x+1/2), (-x+1/2,1/4,x), (-x,x+1/2,3/4), (3/4,-x,x+1/2), (x+1/2,3/4,-x)'},\n {'Wyckoff letter': 'd',\n  'multiplicity': 6,\n  'reusable': False,\n  'Wyckoff position': '(1/2,0,0), (0,1/2,0), (0,0,1/2), (1/2,0,1/2), (0,1/2,1/2), (1/2,1/2,0)'},\n {'Wyckoff letter': 'c',\n  'multiplicity': 4,\n  'reusable': True,\n  'Wyckoff position': '(x,x,x), (-x+1/2,-x+1/2,-x+1/2), (-x,-x,-x), (x+1/2,x+1/2,x+1/2)'},\n {'Wyckoff letter': 'b',\n  'multiplicity': 2,\n  'reusable': False,\n  'Wyckoff position': '(0,0,0), (1/2,1/2,1/2)'},\n {'Wyckoff letter': 'a',\n  'multiplicity': 2,\n  'reusable': False,\n  'Wyckoff position': '(1/4,1/4,1/4), (3/4,3/4,3/4)'}]"
     },
     "metadata": {},
     "execution_count": 2
    }
   ],
   "source": [
    "from crystallus import SpaceGroupDB\n",
    "\n",
    "wys = SpaceGroupDB.get(spacegroup_num=167).wyckoffs\n",
    "[{'Wyckoff letter': w.letter, 'multiplicity': w.multiplicity, 'reusable': w.reuse, 'Wyckoff position': w.positions} for w in wys ]"
   ]
  },
  {
   "cell_type": "markdown",
   "metadata": {},
   "source": [
    "Let's generate some possible Wyckoff configurations for the composition `Ca2C2O6` under space group `167`."
   ]
  },
  {
   "cell_type": "code",
   "execution_count": 3,
   "metadata": {},
   "outputs": [
    {
     "output_type": "stream",
     "text": "\u001b[0;31mInit signature:\u001b[0m \u001b[0mWyckoffCfgGenerator\u001b[0m\u001b[0;34m(\u001b[0m\u001b[0;34m*\u001b[0m\u001b[0;34m,\u001b[0m \u001b[0mmax_recurrent\u001b[0m\u001b[0;34m=\u001b[0m\u001b[0;36m1000\u001b[0m\u001b[0;34m,\u001b[0m \u001b[0mn_jobs\u001b[0m\u001b[0;34m=\u001b[0m\u001b[0;34m-\u001b[0m\u001b[0;36m1\u001b[0m\u001b[0;34m,\u001b[0m \u001b[0;34m**\u001b[0m\u001b[0mcomposition\u001b[0m\u001b[0;34m)\u001b[0m\u001b[0;34m\u001b[0m\u001b[0;34m\u001b[0m\u001b[0m\n\u001b[0;31mDocstring:\u001b[0m      <no docstring>\n\u001b[0;31mInit docstring:\u001b[0m\nA generator for possible Wyckoff configuration generation.\n\nParameters\n----------\nmax_recurrent : int, optional\n    Max recurrent until generate a reasonable structure, by default 5_000\nn_jobs : int, optional\n    Number of cpu cores when parallel calculation, by default -1\ncomposition: Dict\n    Composition of compounds in the primitive cell; should be formated\n    as {<element symbol>: <ratio in float>}.\n\u001b[0;31mFile:\u001b[0m           /usr/local/miniconda3/envs/crystallus/lib/python3.7/site-packages/crystallus/wyckoff_cfg_generator.py\n\u001b[0;31mType:\u001b[0m           type\n\u001b[0;31mSubclasses:\u001b[0m     \n",
     "metadata": {},
     "execution_count": 3
    }
   ],
   "source": [
    "from crystallus import WyckoffCfgGenerator\n",
    "\n",
    "WyckoffCfgGenerator?"
   ]
  },
  {
   "cell_type": "code",
   "execution_count": 4,
   "metadata": {},
   "outputs": [
    {
     "output_type": "execute_result",
     "data": {
      "text/plain": "WyckoffCfgGenerator(            \n    max_recurrent=1000,            \n    n_jobs=-1            \n    composition={'Ca': 2, 'C': 2, 'O': 6}            \n)"
     },
     "metadata": {},
     "execution_count": 4
    }
   ],
   "source": [
    "composition = {'Ca': 2, 'C': 2, 'O': 6}\n",
    "\n",
    "wyg = WyckoffCfgGenerator(**composition)\n",
    "wyg"
   ]
  },
  {
   "cell_type": "markdown",
   "metadata": {},
   "source": [
    "You have noticed that the minimum input for the initialization of a `WyckoffCfgGenerator` is just a composition.\n",
    "Now, we can try to use this generator to generate Wyckoff configuration(s). First, let's try to generate one. This can be done by the `gen_one` method."
   ]
  },
  {
   "cell_type": "code",
   "execution_count": 5,
   "metadata": {},
   "outputs": [
    {
     "output_type": "stream",
     "text": "\u001b[0;31mSignature:\u001b[0m \u001b[0mwyg\u001b[0m\u001b[0;34m.\u001b[0m\u001b[0mgen_one\u001b[0m\u001b[0;34m(\u001b[0m\u001b[0mspacegroup_num\u001b[0m\u001b[0;34m:\u001b[0m \u001b[0mint\u001b[0m\u001b[0;34m)\u001b[0m\u001b[0;34m\u001b[0m\u001b[0;34m\u001b[0m\u001b[0m\n\u001b[0;31mDocstring:\u001b[0m\nTry to generate a possible Wyckoff configuration under the given space group.\n\nParameters\n----------\nspacegroup_num : int\n    Space group number.\n\nReturns\n-------\nDict\n    Wyckoff configuration set, which is a dict with format like:\n    {\"Li\": [\"a\", \"c\"], \"O\": [\"i\"]}. Here, the \"Li\" is an available element\n    symbol and [\"a\", \"c\"] is a list which contains coresponding Wyckoff\n    letters. For convenience, dict will be sorted by keys.\n\u001b[0;31mFile:\u001b[0m      /usr/local/miniconda3/envs/crystallus/lib/python3.7/site-packages/crystallus/wyckoff_cfg_generator.py\n\u001b[0;31mType:\u001b[0m      method\n",
     "metadata": {},
     "execution_count": 5
    }
   ],
   "source": [
    "wyg.gen_one?"
   ]
  },
  {
   "cell_type": "code",
   "execution_count": 6,
   "metadata": {},
   "outputs": [
    {
     "output_type": "execute_result",
     "data": {
      "text/plain": "{'C': ['b'], 'Ca': ['a'], 'O': ['d']}"
     },
     "metadata": {},
     "execution_count": 6
    }
   ],
   "source": [
    "cfg = wyg.gen_one(spacegroup_num=167)\n",
    "cfg"
   ]
  },
  {
   "cell_type": "markdown",
   "metadata": {},
   "source": [
    "If everything goes well, the above cell will return you a dict with something like: `{'C': ['b'], 'Ca': ['a'], 'O': ['d']}`.\n",
    "Here, `C`, `Ca`, and `O` are the element names that had been sorted by the alphabet. `['b']`, `['a']`, and `['d']` are the corresponding Wyckoff positions which are provided by Wyckoff letters.\n",
    "\n",
    "Maybe you are confused that the return of this cell is not unique. That makes sense because all the possible configurations for composition `Ca2C2O6` under space group `167` are four. This means if you run this cell many times, you will get all these configurations. Because in almost all the cases, the possible configurations are not one, so instead of using `gen_one`, you should use `gen_many`."
   ]
  },
  {
   "cell_type": "code",
   "execution_count": 7,
   "metadata": {},
   "outputs": [
    {
     "output_type": "stream",
     "text": "\u001b[0;31mSignature:\u001b[0m \u001b[0mwyg\u001b[0m\u001b[0;34m.\u001b[0m\u001b[0mgen_many\u001b[0m\u001b[0;34m(\u001b[0m\u001b[0msize\u001b[0m\u001b[0;34m:\u001b[0m \u001b[0mint\u001b[0m\u001b[0;34m,\u001b[0m \u001b[0;34m*\u001b[0m\u001b[0mspacegroup_num\u001b[0m\u001b[0;34m:\u001b[0m \u001b[0mint\u001b[0m\u001b[0;34m)\u001b[0m\u001b[0;34m\u001b[0m\u001b[0;34m\u001b[0m\u001b[0m\n\u001b[0;31mDocstring:\u001b[0m\nTry to generate possible Wyckoff configuration sets.\n\nParameters\n----------\nsize : int\n    How many times to try for one space group.\nspacegroup_num: int\n    The spacegroup numbers.\n\nReturns\n-------\nDict[int, List[Dict]], List[Dict]\n    A collection contains spacegroup number and it's corresponding Wyckoff\n    configurations (wy_cfg). If only one spacegroup number was given,\n    will only return the list of wy_cfgs, otherwise return in dict with\n    spacegroup number as key. wy_cfgs will be formated as\n    {element 1: [Wyckoff_letter, Wyckoff_letter, ...], element 2: [...], ...}.\n\u001b[0;31mFile:\u001b[0m      /usr/local/miniconda3/envs/crystallus/lib/python3.7/site-packages/crystallus/wyckoff_cfg_generator.py\n\u001b[0;31mType:\u001b[0m      method\n",
     "metadata": {},
     "execution_count": 7
    }
   ],
   "source": [
    "wyg.gen_many?"
   ]
  },
  {
   "cell_type": "code",
   "execution_count": 8,
   "metadata": {},
   "outputs": [
    {
     "output_type": "execute_result",
     "data": {
      "text/plain": "[{'C': ['b'], 'Ca': ['a'], 'O': ['e']},\n {'C': ['b'], 'Ca': ['a'], 'O': ['d']},\n {'C': ['a'], 'Ca': ['b'], 'O': ['e']},\n {'C': ['a'], 'Ca': ['b'], 'O': ['d']}]"
     },
     "metadata": {},
     "execution_count": 8
    }
   ],
   "source": [
    "cfgs = wyg.gen_many(100, 167)\n",
    "cfgs"
   ]
  },
  {
   "cell_type": "markdown",
   "metadata": {},
   "source": [
    "You can calculate more than one space group in one call. Just list space group numbers as `*` parameters. In this case, the return will be a dict with space group number as key and configuration list as value. For example, if our space group candidate are `[194, 148, 167]`, you can call `gen_many` like this:"
   ]
  },
  {
   "cell_type": "code",
   "execution_count": 9,
   "metadata": {},
   "outputs": [
    {
     "output_type": "stream",
     "name": "stdout",
     "text": "CPU times: user 3.81 ms, sys: 1.7 ms, total: 5.51 ms\nWall time: 3.13 ms\n"
    },
    {
     "output_type": "execute_result",
     "data": {
      "text/plain": "{194: [{'C': ['d'], 'Ca': ['c'], 'O': ['b', 'e']},\n  {'C': ['b'], 'Ca': ['a'], 'O': ['h']},\n  {'C': ['a'], 'Ca': ['b'], 'O': ['d', 'f']},\n  {'C': ['a'], 'Ca': ['c'], 'O': ['d', 'f']},\n  {'C': ['c'], 'Ca': ['b'], 'O': ['h']},\n  {'C': ['b'], 'Ca': ['d'], 'O': ['f', 'a']},\n  {'C': ['b'], 'Ca': ['d'], 'O': ['g']},\n  {'C': ['b'], 'Ca': ['c'], 'O': ['f', 'a']},\n  {'C': ['d'], 'Ca': ['c'], 'O': ['a', 'f']},\n  {'C': ['a'], 'Ca': ['b'], 'O': ['e', 'd']},\n  {'C': ['d'], 'Ca': ['c'], 'O': ['g']},\n  {'C': ['c'], 'Ca': ['b'], 'O': ['d', 'e']},\n  {'C': ['d'], 'Ca': ['a'], 'O': ['h']},\n  {'C': ['c'], 'Ca': ['a'], 'O': ['e', 'b']},\n  {'C': ['b'], 'Ca': ['d'], 'O': ['c', 'f']},\n  {'C': ['b'], 'Ca': ['d'], 'O': ['h']},\n  {'C': ['b'], 'Ca': ['c'], 'O': ['h']},\n  {'C': ['d'], 'Ca': ['b'], 'O': ['g']}],\n 148: [{'C': ['b', 'a'], 'Ca': ['c'], 'O': ['e', 'd']},\n  {'C': ['c'], 'Ca': ['c'], 'O': ['f']},\n  {'C': ['c'], 'Ca': ['c'], 'O': ['a', 'e', 'c']},\n  {'C': ['c'], 'Ca': ['c'], 'O': ['b', 'e', 'c']},\n  {'C': ['a', 'b'], 'Ca': ['c'], 'O': ['e', 'd']},\n  {'C': ['a', 'b'], 'Ca': ['c'], 'O': ['d', 'e']},\n  {'C': ['b', 'a'], 'Ca': ['c'], 'O': ['d', 'e']},\n  {'C': ['a', 'b'], 'Ca': ['c'], 'O': ['f']}],\n 167: [{'C': ['b'], 'Ca': ['a'], 'O': ['d']},\n  {'C': ['a'], 'Ca': ['b'], 'O': ['e']},\n  {'C': ['a'], 'Ca': ['b'], 'O': ['d']},\n  {'C': ['b'], 'Ca': ['a'], 'O': ['e']}]}"
     },
     "metadata": {},
     "execution_count": 9
    }
   ],
   "source": [
    "%%time\n",
    "\n",
    "cfgs = wyg.gen_many(20, 194, 148, 167)\n",
    "cfgs"
   ]
  },
  {
   "cell_type": "markdown",
   "metadata": {},
   "source": [
    "An iterative version of `gen_many` name `gen_many_iter` is also provided. You can use this method to render a progress bar during generation."
   ]
  },
  {
   "cell_type": "code",
   "execution_count": 10,
   "metadata": {},
   "outputs": [
    {
     "output_type": "display_data",
     "data": {
      "text/plain": "HBox(children=(FloatProgress(value=0.0, max=9.0), HTML(value='')))",
      "application/vnd.jupyter.widget-view+json": {
       "version_major": 2,
       "version_minor": 0,
       "model_id": "6bc10effcde54ed38dad434048addb30"
      }
     },
     "metadata": {}
    },
    {
     "output_type": "stream",
     "name": "stdout",
     "text": "space group: 194, size of generated samples: 120\nspace group: 148, size of generated samples: 56\nspace group: 167, size of generated samples: 4\nspace group: 161, size of generated samples: 2\nspace group: 11, size of generated samples: 630\nspace group: 12, size of generated samples: 4359\nspace group: 65, size of generated samples: 4794\nspace group: 140, size of generated samples: 192\nspace group: 225, size of generated samples: 8\n\nCPU times: user 22.4 s, sys: 232 ms, total: 22.7 s\nWall time: 3.9 s\n"
    }
   ],
   "source": [
    "%%time\n",
    "\n",
    "from tqdm.notebook import tqdm\n",
    "\n",
    "space_group_cans = [194, 148, 167, 161, 11, 12, 65, 140, 225]\n",
    "\n",
    "with tqdm(total=len(space_group_cans)) as pbar:\n",
    "    for spacegroup_num, cfg_list in wyg.gen_many_iter(5000, *space_group_cans):\n",
    "        print(f'space group: {spacegroup_num}, size of generated samples: {len(cfg_list)}')\n",
    "        pbar.update()"
   ]
  },
  {
   "cell_type": "markdown",
   "metadata": {},
   "source": [
    "### 2. generate crystal structures\n",
    "\n",
    "Since we have generated many configurations, we will use `CrystalGenerator` to consume these configurations and return some reasonable crystal structures."
   ]
  },
  {
   "cell_type": "code",
   "execution_count": 11,
   "metadata": {},
   "outputs": [
    {
     "output_type": "stream",
     "text": "\u001b[0;31mInit signature:\u001b[0m\n\u001b[0mCrystalGenerator\u001b[0m\u001b[0;34m(\u001b[0m\u001b[0;34m\u001b[0m\n\u001b[0;34m\u001b[0m    \u001b[0mspacegroup_num\u001b[0m\u001b[0;34m:\u001b[0m \u001b[0mint\u001b[0m\u001b[0;34m,\u001b[0m\u001b[0;34m\u001b[0m\n\u001b[0;34m\u001b[0m    \u001b[0mestimated_volume\u001b[0m\u001b[0;34m:\u001b[0m \u001b[0mfloat\u001b[0m\u001b[0;34m,\u001b[0m\u001b[0;34m\u001b[0m\n\u001b[0;34m\u001b[0m    \u001b[0mestimated_variance\u001b[0m\u001b[0;34m:\u001b[0m \u001b[0mfloat\u001b[0m\u001b[0;34m,\u001b[0m\u001b[0;34m\u001b[0m\n\u001b[0;34m\u001b[0m    \u001b[0;34m*\u001b[0m\u001b[0;34m,\u001b[0m\u001b[0;34m\u001b[0m\n\u001b[0;34m\u001b[0m    \u001b[0mmin_distance_tolerance\u001b[0m\u001b[0;34m:\u001b[0m \u001b[0mfloat\u001b[0m \u001b[0;34m=\u001b[0m \u001b[0;36m0.15\u001b[0m\u001b[0;34m,\u001b[0m\u001b[0;34m\u001b[0m\n\u001b[0;34m\u001b[0m    \u001b[0mangle_range\u001b[0m\u001b[0;34m:\u001b[0m \u001b[0mTuple\u001b[0m\u001b[0;34m[\u001b[0m\u001b[0mfloat\u001b[0m\u001b[0;34m,\u001b[0m \u001b[0mfloat\u001b[0m\u001b[0;34m]\u001b[0m \u001b[0;34m=\u001b[0m \u001b[0;34m(\u001b[0m\u001b[0;36m30.0\u001b[0m\u001b[0;34m,\u001b[0m \u001b[0;36m150.0\u001b[0m\u001b[0;34m)\u001b[0m\u001b[0;34m,\u001b[0m\u001b[0;34m\u001b[0m\n\u001b[0;34m\u001b[0m    \u001b[0mangle_tolerance\u001b[0m\u001b[0;34m:\u001b[0m \u001b[0mfloat\u001b[0m \u001b[0;34m=\u001b[0m \u001b[0;36m20.0\u001b[0m\u001b[0;34m,\u001b[0m\u001b[0;34m\u001b[0m\n\u001b[0;34m\u001b[0m    \u001b[0mmax_recurrent\u001b[0m\u001b[0;34m:\u001b[0m \u001b[0mint\u001b[0m \u001b[0;34m=\u001b[0m \u001b[0;36m5000\u001b[0m\u001b[0;34m,\u001b[0m\u001b[0;34m\u001b[0m\n\u001b[0;34m\u001b[0m    \u001b[0mn_jobs\u001b[0m\u001b[0;34m:\u001b[0m \u001b[0mint\u001b[0m \u001b[0;34m=\u001b[0m \u001b[0;34m-\u001b[0m\u001b[0;36m1\u001b[0m\u001b[0;34m,\u001b[0m\u001b[0;34m\u001b[0m\n\u001b[0;34m\u001b[0m\u001b[0;34m)\u001b[0m\u001b[0;34m\u001b[0m\u001b[0;34m\u001b[0m\u001b[0m\n\u001b[0;31mDocstring:\u001b[0m      <no docstring>\n\u001b[0;31mInit docstring:\u001b[0m\nA generator for possible crystal structure generation.\n\nParameters\n----------\nspacegroup_num : int\n    Specify the spacegroup.\nestimated_volume : float\n    The estimated volume of primitive cell. Unit is Å^3.\nestimated_variance : float\n    The estimated variance of volume prediction. Unit is Å\nmin_distance_tolerance : float, optional\n    The tolerance of atomic distances when distance checking. Unit is Å,\n    by default 0.15\nangle_range : Tuple[float, float], optional\n    The range of the degree of angles when lattice generation. by default (30., 150.)\nangle_tolerance : float, optional\n    The Tolerance of minimum of the degree of angles when lattice generation, by default 20.\nmax_recurrent : int, optional\n    Max recurrent until generate a reasonable structure, by default 5_000\nn_jobs : int, optional\n    Number of cpu cores when parallel calculation, by default -1\n\u001b[0;31mFile:\u001b[0m           /usr/local/miniconda3/envs/crystallus/lib/python3.7/site-packages/crystallus/crystal_generator.py\n\u001b[0;31mType:\u001b[0m           type\n\u001b[0;31mSubclasses:\u001b[0m     \n",
     "metadata": {},
     "execution_count": 11
    }
   ],
   "source": [
    "from crystallus import CrystalGenerator\n",
    "\n",
    "CrystalGenerator?"
   ]
  },
  {
   "cell_type": "markdown",
   "metadata": {},
   "source": [
    "To initialize a `CrystalGenerator`, you have to give the `spacegroup_num`, and a `estimated_volume` of primitive cell with `estimated_variance`."
   ]
  },
  {
   "cell_type": "code",
   "execution_count": 12,
   "metadata": {},
   "outputs": [
    {
     "output_type": "execute_result",
     "data": {
      "text/plain": "CrystalGenerator(            \n    spacegroup_num=167,            \n    estimated_volume=127.170256,            \n    estimated_variance=20.0,            \n     min_distance_tolerance=0.15,            \n    angle_range=(30.0, 150.0),            \n    angle_tolerance=20.0,            \n    max_recurrent=5000,            \n    n_jobs=-1            \n)"
     },
     "metadata": {},
     "execution_count": 12
    }
   ],
   "source": [
    "estimated_volume = 127.170256\n",
    "estimated_variance = 20.\n",
    "sp_num = 167\n",
    "\n",
    "cg = CrystalGenerator(sp_num, estimated_volume, estimated_variance)\n",
    "cg"
   ]
  },
  {
   "cell_type": "markdown",
   "metadata": {},
   "source": [
    "There are also `gen_one`, `gen_many`, and `gen_may_iter` methods attached with `CrystalGenerator` object. We can ues `gen_one` for a simple try."
   ]
  },
  {
   "cell_type": "code",
   "execution_count": 13,
   "metadata": {},
   "outputs": [
    {
     "output_type": "stream",
     "text": "\u001b[0;31mSignature:\u001b[0m \u001b[0mcg\u001b[0m\u001b[0;34m.\u001b[0m\u001b[0mgen_one\u001b[0m\u001b[0;34m(\u001b[0m\u001b[0;34m**\u001b[0m\u001b[0mcfg\u001b[0m\u001b[0;34m:\u001b[0m \u001b[0mDict\u001b[0m\u001b[0;34m[\u001b[0m\u001b[0mstr\u001b[0m\u001b[0;34m,\u001b[0m \u001b[0mTuple\u001b[0m\u001b[0;34m[\u001b[0m\u001b[0mstr\u001b[0m\u001b[0;34m]\u001b[0m\u001b[0;34m]\u001b[0m\u001b[0;34m)\u001b[0m\u001b[0;34m\u001b[0m\u001b[0;34m\u001b[0m\u001b[0m\n\u001b[0;31mDocstring:\u001b[0m\nTry to generate a legal crystal structure with given configuration set.\n\nParameters\n----------\n**cfg: Dict[str, Tuple[str]]\n    Wyckoff Configuration set, which is a dict with format like:\n    {\"Li\": [\"a\", \"c\"], \"O\": [\"i\"]}. Here, the \"Li\" is an available element\n    symbol and [\"a\", \"c\"] is a list which contains coresponding Wyckoff\n    letters. For convenience, dict will be sorted by keys.\n\nReturns\n-------\nDict\n    Structure information contains ``spacegroup_mun: int``,\n    ``volume: float``, ``lattice: list``, ``wyckoff_letters: list``,\n    and ``coords: list``.\n\u001b[0;31mFile:\u001b[0m      /usr/local/miniconda3/envs/crystallus/lib/python3.7/site-packages/crystallus/crystal_generator.py\n\u001b[0;31mType:\u001b[0m      method\n",
     "metadata": {},
     "execution_count": 13
    }
   ],
   "source": [
    "cg.gen_one?"
   ]
  },
  {
   "cell_type": "code",
   "execution_count": 14,
   "metadata": {},
   "outputs": [
    {
     "output_type": "stream",
     "name": "stdout",
     "text": "CPU times: user 89 ms, sys: 23.1 ms, total: 112 ms\nWall time: 151 ms\n"
    },
    {
     "output_type": "execute_result",
     "data": {
      "text/plain": "{'spacegroup_num': 167,\n 'volume': 165.85823436377024,\n 'lattice': [[5.494255362010219, 0.0, 0.16128395889102265],\n  [0.15661894115745204, 5.492022622882098, 0.16128395889102265],\n  [0.0, 0.0, 5.4966220989234476]],\n 'species': ['C', 'C', 'Ca', 'Ca', 'O', 'O', 'O', 'O', 'O', 'O'],\n 'wyckoff_letters': ['b', 'b', 'a', 'a', 'd', 'd', 'd', 'd', 'd', 'd'],\n 'coords': [[0.0, 0.0, 0.0],\n  [0.5, 0.5, 0.5],\n  [0.25, 0.25, 0.25],\n  [0.75, 0.75, 0.75],\n  [0.5, 0.0, 0.0],\n  [0.0, 0.5, 0.0],\n  [0.0, 0.0, 0.5],\n  [0.5, 0.0, 0.5],\n  [0.0, 0.5, 0.5],\n  [0.5, 0.5, 0.0]]}"
     },
     "metadata": {},
     "execution_count": 14
    }
   ],
   "source": [
    "%%time\n",
    "\n",
    "cfgs[sp_num][0]\n",
    "\n",
    "raw_s = cg.gen_one(**cfgs[sp_num][0])\n",
    "raw_s"
   ]
  },
  {
   "cell_type": "markdown",
   "metadata": {},
   "source": [
    "The result contains `species`, `lattice`, and `coords`. These information can be consumed by `pymatgen.Structure` class."
   ]
  },
  {
   "cell_type": "code",
   "execution_count": 15,
   "metadata": {},
   "outputs": [
    {
     "output_type": "execute_result",
     "data": {
      "text/plain": "Structure Summary\nLattice\n    abc : 5.4966220989234476 5.4966220989234476 5.4966220989234476\n angles : 88.3185642882688 88.3185642882688 88.3185642882688\n volume : 165.85823436377024\n      A : 5.494255362010219 0.0 0.16128395889102265\n      B : 0.15661894115745204 5.492022622882098 0.16128395889102265\n      C : 0.0 0.0 5.4966220989234476\nPeriodicSite: C (0.0000, 0.0000, 0.0000) [0.0000, 0.0000, 0.0000]\nPeriodicSite: C (2.8254, 2.7460, 2.9096) [0.5000, 0.5000, 0.5000]\nPeriodicSite: Ca (1.4127, 1.3730, 1.4548) [0.2500, 0.2500, 0.2500]\nPeriodicSite: Ca (4.2382, 4.1190, 4.3644) [0.7500, 0.7500, 0.7500]\nPeriodicSite: O (2.7471, 0.0000, 0.0806) [0.5000, 0.0000, 0.0000]\nPeriodicSite: O (0.0783, 2.7460, 0.0806) [0.0000, 0.5000, 0.0000]\nPeriodicSite: O (0.0000, 0.0000, 2.7483) [0.0000, 0.0000, 0.5000]\nPeriodicSite: O (2.7471, 0.0000, 2.8290) [0.5000, 0.0000, 0.5000]\nPeriodicSite: O (0.0783, 2.7460, 2.8290) [0.0000, 0.5000, 0.5000]\nPeriodicSite: O (2.8254, 2.7460, 0.1613) [0.5000, 0.5000, 0.0000]"
     },
     "metadata": {},
     "execution_count": 15
    }
   ],
   "source": [
    "from pymatgen import Structure\n",
    "\n",
    "s = Structure(lattice=raw_s['lattice'], species=raw_s['species'], coords=raw_s['coords'])\n",
    "s"
   ]
  },
  {
   "cell_type": "markdown",
   "metadata": {},
   "source": [
    "You can feed `gen_many` a list of configurations."
   ]
  },
  {
   "cell_type": "code",
   "execution_count": 16,
   "metadata": {},
   "outputs": [
    {
     "output_type": "stream",
     "name": "stdout",
     "text": "type of raw_ss: <class 'tuple'>, size: 400\nCPU times: user 640 ms, sys: 13.6 ms, total: 654 ms\nWall time: 138 ms\n"
    }
   ],
   "source": [
    "%%time\n",
    "\n",
    "raw_ss = cg.gen_many(100, *cfgs[sp_num])\n",
    "\n",
    "print(f\"type of raw_ss: {raw_ss.__class__}, size: {len(raw_ss)}\")"
   ]
  },
  {
   "cell_type": "markdown",
   "metadata": {},
   "source": [
    "Also, the iterative version"
   ]
  },
  {
   "cell_type": "code",
   "execution_count": 17,
   "metadata": {},
   "outputs": [
    {
     "output_type": "display_data",
     "data": {
      "text/plain": "HBox(children=(FloatProgress(value=0.0, max=4.0), HTML(value='')))",
      "application/vnd.jupyter.widget-view+json": {
       "version_major": 2,
       "version_minor": 0,
       "model_id": "b230b1dbf5414779b9c36021fd8641bc"
      }
     },
     "metadata": {}
    },
    {
     "output_type": "stream",
     "name": "stdout",
     "text": "configuration: {'C': ['b'], 'Ca': ['a'], 'O': ['d']}, size of structures: 500\nconfiguration: {'C': ['a'], 'Ca': ['b'], 'O': ['e']}, size of structures: 500\nconfiguration: {'C': ['a'], 'Ca': ['b'], 'O': ['d']}, size of structures: 500\nconfiguration: {'C': ['b'], 'Ca': ['a'], 'O': ['e']}, size of structures: 500\n\nCPU times: user 3.74 s, sys: 65.8 ms, total: 3.81 s\nWall time: 718 ms\n"
    }
   ],
   "source": [
    "%%time\n",
    "\n",
    "with tqdm(total=len(cfgs[sp_num])) as pbar:\n",
    "    for cfg, structures in cg.gen_many_iter(500, *cfgs[sp_num]):\n",
    "        print(f'configuration: {cfg}, size of structures: {len(structures)}')\n",
    "        pbar.update()"
   ]
  },
  {
   "cell_type": "code",
   "execution_count": null,
   "metadata": {},
   "outputs": [],
   "source": []
  }
 ],
 "metadata": {
  "kernelspec": {
   "display_name": "Python 3",
   "language": "python",
   "name": "python3"
  },
  "language_info": {
   "codemirror_mode": {
    "name": "ipython",
    "version": 3
   },
   "file_extension": ".py",
   "mimetype": "text/x-python",
   "name": "python",
   "nbconvert_exporter": "python",
   "pygments_lexer": "ipython3",
   "version": "3.7.6-final"
  }
 },
 "nbformat": 4,
 "nbformat_minor": 4
}