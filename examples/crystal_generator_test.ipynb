{
 "cells": [
  {
   "cell_type": "code",
   "execution_count": 1,
   "metadata": {},
   "outputs": [],
   "source": [
    "import joblib\n",
    "import numpy as np\n",
    "import pandas as pd\n",
    "\n",
    "from pymatgen import Structure\n",
    "\n",
    "# user-friendly print\n",
    "from IPython.core.interactiveshell import InteractiveShell\n",
    "InteractiveShell.ast_node_interactivity = \"all\""
   ]
  },
  {
   "cell_type": "markdown",
   "metadata": {},
   "source": [
    "## Crystal structure generation\n",
    "\n",
    "To generate legal structure under a given space group with specific chemical composition, basicly the following four steps are needed.\n",
    "\n",
    "1. calculate possible Wyckoff configurations under a given space group for each chemical composition.\n",
    "2. generate fraction positions for each element with given a Wyckoff configuration which is calculated from step 1), randomly.\n",
    "3. generate lattice for the given space group which is used in step 1), randomly.\n",
    "4. combine the results from step 2) and 3) to obtain a legal structure.\n",
    "\n",
    "Usually, we also have to check the `volume` and `atomic distances` of generated structure, only keep the structures which have reasonable `volume` and `atomic distances`.\n",
    "\n",
    "To facilitate these jobs, our `crystallus` library provides four modules:\n",
    "\n",
    "* `WyckoffCfgGenerator`: generate possible Wyckoff configurations for the given space group and composition of primitive cell.\n",
    "* `CrystalGenerator`: generate crystal structures for the given space group and Wyckoff configurations.\n",
    "* `WyckoffDB, SpaceGroupDB`: database include space group and corresponding Wyckoff information.\n",
    "\n",
    "We will show how to use `crystallus` to generate legal structures."
   ]
  },
  {
   "cell_type": "markdown",
   "metadata": {},
   "source": [
    "### 1. generate Wyckoff configurations\n",
    "\n",
    "As an example, we will try to generate structures for `Ca2C2O6`. The true space group of this structure is `167`, and the Wyckoff configuration is `{Ca: 2b, C: 2a, O: 6e}`.\n",
    "You can use `SpaceGroupDB` to get the Wyckoff information about space group `167`."
   ]
  },
  {
   "cell_type": "code",
   "execution_count": 12,
   "metadata": {},
   "outputs": [
    {
     "data": {
      "text/plain": "[{'Wyckoff letter': 'f',\n  'multiplicity': 12,\n  'reusable': True,\n  'Wyckoff position': '(x,y,z), (z,x,y), (y,z,x), (-y+1/2,-x+1/2,-z+1/2), (-x+1/2,-z+1/2,-y+1/2), (-z+1/2,-y+1/2,-x+1/2), (-x,-y,-z), (-z,-x,-y), (-y,-z,-x), (y+1/2,x+1/2,z+1/2), (x+1/2,z+1/2,y+1/2), (z+1/2,y+1/2,x+1/2)'},\n {'Wyckoff letter': 'e',\n  'multiplicity': 6,\n  'reusable': True,\n  'Wyckoff position': '(x,-x+1/2,1/4), (1/4,x,-x+1/2), (-x+1/2,1/4,x), (-x,x+1/2,3/4), (3/4,-x,x+1/2), (x+1/2,3/4,-x)'},\n {'Wyckoff letter': 'd',\n  'multiplicity': 6,\n  'reusable': False,\n  'Wyckoff position': '(1/2,0,0), (0,1/2,0), (0,0,1/2), (1/2,0,1/2), (0,1/2,1/2), (1/2,1/2,0)'},\n {'Wyckoff letter': 'c',\n  'multiplicity': 4,\n  'reusable': True,\n  'Wyckoff position': '(x,x,x), (-x+1/2,-x+1/2,-x+1/2), (-x,-x,-x), (x+1/2,x+1/2,x+1/2)'},\n {'Wyckoff letter': 'b',\n  'multiplicity': 2,\n  'reusable': False,\n  'Wyckoff position': '(0,0,0), (1/2,1/2,1/2)'},\n {'Wyckoff letter': 'a',\n  'multiplicity': 2,\n  'reusable': False,\n  'Wyckoff position': '(1/4,1/4,1/4), (3/4,3/4,3/4)'}]"
     },
     "execution_count": 12,
     "metadata": {},
     "output_type": "execute_result"
    }
   ],
   "source": [
    "from crystallus import SpaceGroupDB\n",
    "\n",
    "wys = SpaceGroupDB.get(spacegroup_num=167).wyckoffs\n",
    "[{'Wyckoff letter': w.letter, 'multiplicity': w.multiplicity, 'reusable': w.reuse, 'Wyckoff position': w.positions} for w in wys ]"
   ]
  },
  {
   "cell_type": "markdown",
   "metadata": {},
   "source": [
    "Let's generate some possible Wyckoff configurations for compositon `Ca2C2O6` under space group `167`."
   ]
  },
  {
   "cell_type": "code",
   "execution_count": 16,
   "metadata": {},
   "outputs": [],
   "source": [
    "from crystallus import WyckoffCfgGenerator\n",
    "\n",
    "WyckoffCfgGenerator?"
   ]
  },
  {
   "cell_type": "code",
   "execution_count": 19,
   "metadata": {},
   "outputs": [
    {
     "data": {
      "text/plain": "WyckoffCfgGenerator(            \n    max_recurrent=1000,            \n    n_jobs=-1            \n    composition={'Ca': 2, 'C': 2, 'O': 6}            \n)"
     },
     "execution_count": 19,
     "metadata": {},
     "output_type": "execute_result"
    }
   ],
   "source": [
    "composition = {'Ca': 2, 'C': 2, 'O': 6}\n",
    "\n",
    "wyg = WyckoffCfgGenerator(**composition)\n",
    "wyg"
   ]
  },
  {
   "cell_type": "markdown",
   "metadata": {},
   "source": [
    "You can see that the minimum input to initialize a `WyckoffCfgGenerator` is just the compositon."
   ]
  },
  {
   "cell_type": "code",
   "execution_count": 29,
   "metadata": {},
   "outputs": [
    {
     "data": {
      "text/plain": "{'C': ['b'], 'Ca': ['a'], 'O': ['e']}"
     },
     "execution_count": 29,
     "metadata": {},
     "output_type": "execute_result"
    }
   ],
   "source": [
    "cfg = wyg.gen_one(spacegroup_num=167)\n",
    "cfg"
   ]
  },
  {
   "cell_type": "code",
   "execution_count": null,
   "metadata": {},
   "outputs": [],
   "source": [
    "from crystallus import CrystalGenerator, WyckoffCfgGenerator"
   ]
  },
  {
   "cell_type": "code",
   "execution_count": null,
   "metadata": {},
   "outputs": [],
   "source": [
    "composition = 'Ti4O8'\n",
    "estimated_volume = 146.706\n",
    "estimated_variance = 20\n",
    "sp_num = 12"
   ]
  },
  {
   "cell_type": "code",
   "execution_count": null,
   "metadata": {},
   "outputs": [],
   "source": [
    "cg = CrystalGenerator(sp_num, estimated_volume, estimated_variance)\n",
    "cg"
   ]
  },
  {
   "cell_type": "code",
   "execution_count": null,
   "metadata": {},
   "outputs": [],
   "source": [
    "len(cfgs[sp_num])"
   ]
  },
  {
   "cell_type": "code",
   "execution_count": null,
   "metadata": {},
   "outputs": [],
   "source": [
    "%%time\n",
    "\n",
    "ret = cg.gen_many(10, *cfgs[sp_num])"
   ]
  },
  {
   "cell_type": "code",
   "execution_count": null,
   "metadata": {},
   "outputs": [],
   "source": [
    "%%time\n",
    "\n",
    "len(ret)\n",
    "joblib.dump(ret, f\"{composition}_space_group_{sp_num}.pkl.z\")"
   ]
  },
  {
   "cell_type": "code",
   "execution_count": null,
   "metadata": {},
   "outputs": [],
   "source": [
    "for i, tmp in enumerate(ret):\n",
    "    s = Structure(lattice=tmp['lattice'], species=tmp['species'], coords=np.asarray(tmp['coords']).reshape(-1, 3))\n",
    "    s.to(fmt='cif', filename=f'generated_cifs/{i}.cif', symprec=0.01)"
   ]
  },
  {
   "cell_type": "markdown",
   "metadata": {},
   "source": [
    "---------"
   ]
  },
  {
   "cell_type": "code",
   "execution_count": null,
   "metadata": {},
   "outputs": [],
   "source": [
    "structure_table = pd.read_pickle('Ti4O8_structure_table_old.pd.xz')\n",
    "structure_table"
   ]
  },
  {
   "cell_type": "code",
   "execution_count": null,
   "metadata": {},
   "outputs": [],
   "source": [
    "tmp = structure_table.groupby('spacegroup_num')['wy_letters'].value_counts()"
   ]
  },
  {
   "cell_type": "code",
   "execution_count": null,
   "metadata": {},
   "outputs": [],
   "source": [
    "from matplotlib import pyplot as plt\n",
    "\n",
    "f, (ax1, ax2) = plt.subplots(1, 2, figsize=(12, 8),dpi=100)\n",
    "structure_table.shape\n",
    "ax = structure_table.groupby('spacegroup_num').count().sort_values('formula', ascending=False).plot.bar(y=['structure'], ax=ax1)\n",
    "ax.text(25,190000,'Ca2C2O6\\nsize: 624899', fontsize=15, ha='right')\n",
    "\n",
    "ax = structure_table.volume.hist(ax=ax2)\n",
    "ax.xaxis.grid(False)\n",
    "ax.grid(linestyle='--', linewidth=1, axis='y')\n",
    "ax.set_xlabel('volume')\n",
    "\n",
    "plt.tight_layout()"
   ]
  }
 ],
 "metadata": {
  "kernelspec": {
   "display_name": "Python 3.7.6 64-bit ('crystallus': conda)",
   "language": "python",
   "name": "python37664bitcrystalluscondacde6328031c145059620737ef4407483"
  },
  "language_info": {
   "codemirror_mode": {
    "name": "ipython",
    "version": 3
   },
   "file_extension": ".py",
   "mimetype": "text/x-python",
   "name": "python",
   "nbconvert_exporter": "python",
   "pygments_lexer": "ipython3",
   "version": "3.7.6-final"
  }
 },
 "nbformat": 4,
 "nbformat_minor": 4
}